{
 "cells": [
  {
   "cell_type": "markdown",
   "metadata": {},
   "source": [
    "# Progetto di Data and Web Mining\n",
    "## Autore: Sofia Crudu"
   ]
  },
  {
   "cell_type": "code",
   "execution_count": 1,
   "metadata": {},
   "outputs": [],
   "source": [
    "import pandas as pd\n",
    "import numpy as np\n",
    "import ast\n",
    "import re\n",
    "import seaborn as sns\n",
    "from sklearn import metrics\n",
    "from datetime import timedelta, date\n",
    "from sklearn.preprocessing import LabelEncoder\n",
    "from sklearn.model_selection import train_test_split\n",
    "from sklearn.linear_model import LinearRegression\n",
    "from sklearn.preprocessing import MinMaxScaler\n",
    "from sklearn.preprocessing import StandardScaler\n",
    "from sklearn.metrics import mean_squared_error\n",
    "from sklearn.metrics import accuracy_score\n",
    "from sklearn import tree\n",
    "from sklearn.preprocessing import PolynomialFeatures \n",
    "import matplotlib.pyplot as plt\n",
    "from scipy.stats import pearsonr\n",
    "from sklearn.decomposition import PCA\n",
    "from sklearn.utils import resample\n",
    "from sklearn.ensemble import RandomForestRegressor\n",
    "from sklearn.model_selection import cross_val_score\n",
    "from sklearn import linear_model\n",
    "from sklearn.feature_selection import RFECV"
   ]
  },
  {
   "cell_type": "markdown",
   "metadata": {},
   "source": [
    "## Loading the data"
   ]
  },
  {
   "cell_type": "code",
   "execution_count": 2,
   "metadata": {},
   "outputs": [],
   "source": [
    "#Carico i dati\n",
    "train = pd.read_csv(\"./datasets/train.csv\")\n",
    "test = pd.read_csv(\"./datasets/test.csv\")"
   ]
  },
  {
   "cell_type": "markdown",
   "metadata": {},
   "source": [
    "## Initial exploration of the data"
   ]
  },
  {
   "cell_type": "code",
   "execution_count": 3,
   "metadata": {},
   "outputs": [
    {
     "data": {
      "text/html": [
       "<div>\n",
       "<style scoped>\n",
       "    .dataframe tbody tr th:only-of-type {\n",
       "        vertical-align: middle;\n",
       "    }\n",
       "\n",
       "    .dataframe tbody tr th {\n",
       "        vertical-align: top;\n",
       "    }\n",
       "\n",
       "    .dataframe thead th {\n",
       "        text-align: right;\n",
       "    }\n",
       "</style>\n",
       "<table border=\"1\" class=\"dataframe\">\n",
       "  <thead>\n",
       "    <tr style=\"text-align: right;\">\n",
       "      <th></th>\n",
       "      <th>id</th>\n",
       "      <th>belongs_to_collection</th>\n",
       "      <th>budget</th>\n",
       "      <th>genres</th>\n",
       "      <th>homepage</th>\n",
       "      <th>imdb_id</th>\n",
       "      <th>original_language</th>\n",
       "      <th>original_title</th>\n",
       "      <th>overview</th>\n",
       "      <th>popularity</th>\n",
       "      <th>...</th>\n",
       "      <th>release_date</th>\n",
       "      <th>runtime</th>\n",
       "      <th>spoken_languages</th>\n",
       "      <th>status</th>\n",
       "      <th>tagline</th>\n",
       "      <th>title</th>\n",
       "      <th>Keywords</th>\n",
       "      <th>cast</th>\n",
       "      <th>crew</th>\n",
       "      <th>revenue</th>\n",
       "    </tr>\n",
       "  </thead>\n",
       "  <tbody>\n",
       "    <tr>\n",
       "      <th>0</th>\n",
       "      <td>1</td>\n",
       "      <td>[{'id': 313576, 'name': 'Hot Tub Time Machine ...</td>\n",
       "      <td>14000000</td>\n",
       "      <td>[{'id': 35, 'name': 'Comedy'}]</td>\n",
       "      <td>NaN</td>\n",
       "      <td>tt2637294</td>\n",
       "      <td>en</td>\n",
       "      <td>Hot Tub Time Machine 2</td>\n",
       "      <td>When Lou, who has become the \"father of the In...</td>\n",
       "      <td>6.575393</td>\n",
       "      <td>...</td>\n",
       "      <td>2/20/15</td>\n",
       "      <td>93.0</td>\n",
       "      <td>[{'iso_639_1': 'en', 'name': 'English'}]</td>\n",
       "      <td>Released</td>\n",
       "      <td>The Laws of Space and Time are About to be Vio...</td>\n",
       "      <td>Hot Tub Time Machine 2</td>\n",
       "      <td>[{'id': 4379, 'name': 'time travel'}, {'id': 9...</td>\n",
       "      <td>[{'cast_id': 4, 'character': 'Lou', 'credit_id...</td>\n",
       "      <td>[{'credit_id': '59ac067c92514107af02c8c8', 'de...</td>\n",
       "      <td>12314651</td>\n",
       "    </tr>\n",
       "    <tr>\n",
       "      <th>1</th>\n",
       "      <td>2</td>\n",
       "      <td>[{'id': 107674, 'name': 'The Princess Diaries ...</td>\n",
       "      <td>40000000</td>\n",
       "      <td>[{'id': 35, 'name': 'Comedy'}, {'id': 18, 'nam...</td>\n",
       "      <td>NaN</td>\n",
       "      <td>tt0368933</td>\n",
       "      <td>en</td>\n",
       "      <td>The Princess Diaries 2: Royal Engagement</td>\n",
       "      <td>Mia Thermopolis is now a college graduate and ...</td>\n",
       "      <td>8.248895</td>\n",
       "      <td>...</td>\n",
       "      <td>8/6/04</td>\n",
       "      <td>113.0</td>\n",
       "      <td>[{'iso_639_1': 'en', 'name': 'English'}]</td>\n",
       "      <td>Released</td>\n",
       "      <td>It can take a lifetime to find true love; she'...</td>\n",
       "      <td>The Princess Diaries 2: Royal Engagement</td>\n",
       "      <td>[{'id': 2505, 'name': 'coronation'}, {'id': 42...</td>\n",
       "      <td>[{'cast_id': 1, 'character': 'Mia Thermopolis'...</td>\n",
       "      <td>[{'credit_id': '52fe43fe9251416c7502563d', 'de...</td>\n",
       "      <td>95149435</td>\n",
       "    </tr>\n",
       "    <tr>\n",
       "      <th>2</th>\n",
       "      <td>3</td>\n",
       "      <td>NaN</td>\n",
       "      <td>3300000</td>\n",
       "      <td>[{'id': 18, 'name': 'Drama'}]</td>\n",
       "      <td>http://sonyclassics.com/whiplash/</td>\n",
       "      <td>tt2582802</td>\n",
       "      <td>en</td>\n",
       "      <td>Whiplash</td>\n",
       "      <td>Under the direction of a ruthless instructor, ...</td>\n",
       "      <td>64.299990</td>\n",
       "      <td>...</td>\n",
       "      <td>10/10/14</td>\n",
       "      <td>105.0</td>\n",
       "      <td>[{'iso_639_1': 'en', 'name': 'English'}]</td>\n",
       "      <td>Released</td>\n",
       "      <td>The road to greatness can take you to the edge.</td>\n",
       "      <td>Whiplash</td>\n",
       "      <td>[{'id': 1416, 'name': 'jazz'}, {'id': 1523, 'n...</td>\n",
       "      <td>[{'cast_id': 5, 'character': 'Andrew Neimann',...</td>\n",
       "      <td>[{'credit_id': '54d5356ec3a3683ba0000039', 'de...</td>\n",
       "      <td>13092000</td>\n",
       "    </tr>\n",
       "    <tr>\n",
       "      <th>3</th>\n",
       "      <td>4</td>\n",
       "      <td>NaN</td>\n",
       "      <td>1200000</td>\n",
       "      <td>[{'id': 53, 'name': 'Thriller'}, {'id': 18, 'n...</td>\n",
       "      <td>http://kahaanithefilm.com/</td>\n",
       "      <td>tt1821480</td>\n",
       "      <td>hi</td>\n",
       "      <td>Kahaani</td>\n",
       "      <td>Vidya Bagchi (Vidya Balan) arrives in Kolkata ...</td>\n",
       "      <td>3.174936</td>\n",
       "      <td>...</td>\n",
       "      <td>3/9/12</td>\n",
       "      <td>122.0</td>\n",
       "      <td>[{'iso_639_1': 'en', 'name': 'English'}, {'iso...</td>\n",
       "      <td>Released</td>\n",
       "      <td>NaN</td>\n",
       "      <td>Kahaani</td>\n",
       "      <td>[{'id': 10092, 'name': 'mystery'}, {'id': 1054...</td>\n",
       "      <td>[{'cast_id': 1, 'character': 'Vidya Bagchi', '...</td>\n",
       "      <td>[{'credit_id': '52fe48779251416c9108d6eb', 'de...</td>\n",
       "      <td>16000000</td>\n",
       "    </tr>\n",
       "    <tr>\n",
       "      <th>4</th>\n",
       "      <td>5</td>\n",
       "      <td>NaN</td>\n",
       "      <td>0</td>\n",
       "      <td>[{'id': 28, 'name': 'Action'}, {'id': 53, 'nam...</td>\n",
       "      <td>NaN</td>\n",
       "      <td>tt1380152</td>\n",
       "      <td>ko</td>\n",
       "      <td>마린보이</td>\n",
       "      <td>Marine Boy is the story of a former national s...</td>\n",
       "      <td>1.148070</td>\n",
       "      <td>...</td>\n",
       "      <td>2/5/09</td>\n",
       "      <td>118.0</td>\n",
       "      <td>[{'iso_639_1': 'ko', 'name': '한국어/조선말'}]</td>\n",
       "      <td>Released</td>\n",
       "      <td>NaN</td>\n",
       "      <td>Marine Boy</td>\n",
       "      <td>NaN</td>\n",
       "      <td>[{'cast_id': 3, 'character': 'Chun-soo', 'cred...</td>\n",
       "      <td>[{'credit_id': '52fe464b9251416c75073b43', 'de...</td>\n",
       "      <td>3923970</td>\n",
       "    </tr>\n",
       "    <tr>\n",
       "      <th>...</th>\n",
       "      <td>...</td>\n",
       "      <td>...</td>\n",
       "      <td>...</td>\n",
       "      <td>...</td>\n",
       "      <td>...</td>\n",
       "      <td>...</td>\n",
       "      <td>...</td>\n",
       "      <td>...</td>\n",
       "      <td>...</td>\n",
       "      <td>...</td>\n",
       "      <td>...</td>\n",
       "      <td>...</td>\n",
       "      <td>...</td>\n",
       "      <td>...</td>\n",
       "      <td>...</td>\n",
       "      <td>...</td>\n",
       "      <td>...</td>\n",
       "      <td>...</td>\n",
       "      <td>...</td>\n",
       "      <td>...</td>\n",
       "      <td>...</td>\n",
       "    </tr>\n",
       "    <tr>\n",
       "      <th>2995</th>\n",
       "      <td>2996</td>\n",
       "      <td>NaN</td>\n",
       "      <td>0</td>\n",
       "      <td>[{'id': 35, 'name': 'Comedy'}, {'id': 10749, '...</td>\n",
       "      <td>NaN</td>\n",
       "      <td>tt0109403</td>\n",
       "      <td>en</td>\n",
       "      <td>Chasers</td>\n",
       "      <td>Military men Rock Reilly and Eddie Devane are ...</td>\n",
       "      <td>9.853270</td>\n",
       "      <td>...</td>\n",
       "      <td>4/22/94</td>\n",
       "      <td>102.0</td>\n",
       "      <td>[{'iso_639_1': 'en', 'name': 'English'}]</td>\n",
       "      <td>Released</td>\n",
       "      <td>It was supposed to be a routine prisoner trans...</td>\n",
       "      <td>Chasers</td>\n",
       "      <td>[{'id': 378, 'name': 'prison'}, {'id': 572, 'n...</td>\n",
       "      <td>[{'cast_id': 2, 'character': 'Rock Reilly', 'c...</td>\n",
       "      <td>[{'credit_id': '52fe4494c3a368484e02ac7d', 'de...</td>\n",
       "      <td>1596687</td>\n",
       "    </tr>\n",
       "    <tr>\n",
       "      <th>2996</th>\n",
       "      <td>2997</td>\n",
       "      <td>NaN</td>\n",
       "      <td>0</td>\n",
       "      <td>[{'id': 18, 'name': 'Drama'}, {'id': 10402, 'n...</td>\n",
       "      <td>NaN</td>\n",
       "      <td>tt2364975</td>\n",
       "      <td>sv</td>\n",
       "      <td>Vi är bäst!</td>\n",
       "      <td>Three girls in 1980s Stockholm decide to form ...</td>\n",
       "      <td>3.727996</td>\n",
       "      <td>...</td>\n",
       "      <td>3/28/13</td>\n",
       "      <td>102.0</td>\n",
       "      <td>[{'iso_639_1': 'sv', 'name': 'svenska'}]</td>\n",
       "      <td>Released</td>\n",
       "      <td>NaN</td>\n",
       "      <td>We Are the Best!</td>\n",
       "      <td>[{'id': 1192, 'name': 'sweden'}, {'id': 4470, ...</td>\n",
       "      <td>[{'cast_id': 5, 'character': 'Bobo', 'credit_i...</td>\n",
       "      <td>[{'credit_id': '5716b72ac3a3686678012c84', 'de...</td>\n",
       "      <td>180590</td>\n",
       "    </tr>\n",
       "    <tr>\n",
       "      <th>2997</th>\n",
       "      <td>2998</td>\n",
       "      <td>NaN</td>\n",
       "      <td>65000000</td>\n",
       "      <td>[{'id': 80, 'name': 'Crime'}, {'id': 28, 'name...</td>\n",
       "      <td>NaN</td>\n",
       "      <td>tt0116908</td>\n",
       "      <td>en</td>\n",
       "      <td>The Long Kiss Goodnight</td>\n",
       "      <td>Samantha Caine, suburban homemaker, is the ide...</td>\n",
       "      <td>14.482345</td>\n",
       "      <td>...</td>\n",
       "      <td>10/11/96</td>\n",
       "      <td>120.0</td>\n",
       "      <td>[{'iso_639_1': 'en', 'name': 'English'}]</td>\n",
       "      <td>Released</td>\n",
       "      <td>What's forgotten is not always gone.</td>\n",
       "      <td>The Long Kiss Goodnight</td>\n",
       "      <td>[{'id': 441, 'name': 'assassination'}, {'id': ...</td>\n",
       "      <td>[{'cast_id': 10, 'character': 'Samantha Caine ...</td>\n",
       "      <td>[{'credit_id': '52fe443a9251416c7502d579', 'de...</td>\n",
       "      <td>89456761</td>\n",
       "    </tr>\n",
       "    <tr>\n",
       "      <th>2998</th>\n",
       "      <td>2999</td>\n",
       "      <td>NaN</td>\n",
       "      <td>42000000</td>\n",
       "      <td>[{'id': 35, 'name': 'Comedy'}, {'id': 10749, '...</td>\n",
       "      <td>http://www.alongcamepolly.com/</td>\n",
       "      <td>tt0343135</td>\n",
       "      <td>en</td>\n",
       "      <td>Along Came Polly</td>\n",
       "      <td>Reuben Feffer is a guy who's spent his entire ...</td>\n",
       "      <td>15.725542</td>\n",
       "      <td>...</td>\n",
       "      <td>1/16/04</td>\n",
       "      <td>90.0</td>\n",
       "      <td>[{'iso_639_1': 'en', 'name': 'English'}]</td>\n",
       "      <td>Released</td>\n",
       "      <td>For the most cautious man on Earth, life is ab...</td>\n",
       "      <td>Along Came Polly</td>\n",
       "      <td>[{'id': 966, 'name': 'beach'}, {'id': 2676, 'n...</td>\n",
       "      <td>[{'cast_id': 8, 'character': 'Reuben Feffer', ...</td>\n",
       "      <td>[{'credit_id': '556f817b9251410866000a63', 'de...</td>\n",
       "      <td>171963386</td>\n",
       "    </tr>\n",
       "    <tr>\n",
       "      <th>2999</th>\n",
       "      <td>3000</td>\n",
       "      <td>NaN</td>\n",
       "      <td>35000000</td>\n",
       "      <td>[{'id': 53, 'name': 'Thriller'}, {'id': 28, 'n...</td>\n",
       "      <td>http://www.abductionthefilm.com/</td>\n",
       "      <td>tt1600195</td>\n",
       "      <td>en</td>\n",
       "      <td>Abduction</td>\n",
       "      <td>A young man sets out to uncover the truth abou...</td>\n",
       "      <td>10.512109</td>\n",
       "      <td>...</td>\n",
       "      <td>9/22/11</td>\n",
       "      <td>106.0</td>\n",
       "      <td>[{'iso_639_1': 'en', 'name': 'English'}]</td>\n",
       "      <td>Released</td>\n",
       "      <td>They stole his life. He's taking it back.</td>\n",
       "      <td>Abduction</td>\n",
       "      <td>[{'id': 591, 'name': 'cia'}, {'id': 822, 'name...</td>\n",
       "      <td>[{'cast_id': 2, 'character': 'Nathan Harper', ...</td>\n",
       "      <td>[{'credit_id': '5391990d0e0a260fb5001629', 'de...</td>\n",
       "      <td>82087155</td>\n",
       "    </tr>\n",
       "  </tbody>\n",
       "</table>\n",
       "<p>3000 rows × 23 columns</p>\n",
       "</div>"
      ],
      "text/plain": [
       "        id                              belongs_to_collection    budget  \\\n",
       "0        1  [{'id': 313576, 'name': 'Hot Tub Time Machine ...  14000000   \n",
       "1        2  [{'id': 107674, 'name': 'The Princess Diaries ...  40000000   \n",
       "2        3                                                NaN   3300000   \n",
       "3        4                                                NaN   1200000   \n",
       "4        5                                                NaN         0   \n",
       "...    ...                                                ...       ...   \n",
       "2995  2996                                                NaN         0   \n",
       "2996  2997                                                NaN         0   \n",
       "2997  2998                                                NaN  65000000   \n",
       "2998  2999                                                NaN  42000000   \n",
       "2999  3000                                                NaN  35000000   \n",
       "\n",
       "                                                 genres  \\\n",
       "0                        [{'id': 35, 'name': 'Comedy'}]   \n",
       "1     [{'id': 35, 'name': 'Comedy'}, {'id': 18, 'nam...   \n",
       "2                         [{'id': 18, 'name': 'Drama'}]   \n",
       "3     [{'id': 53, 'name': 'Thriller'}, {'id': 18, 'n...   \n",
       "4     [{'id': 28, 'name': 'Action'}, {'id': 53, 'nam...   \n",
       "...                                                 ...   \n",
       "2995  [{'id': 35, 'name': 'Comedy'}, {'id': 10749, '...   \n",
       "2996  [{'id': 18, 'name': 'Drama'}, {'id': 10402, 'n...   \n",
       "2997  [{'id': 80, 'name': 'Crime'}, {'id': 28, 'name...   \n",
       "2998  [{'id': 35, 'name': 'Comedy'}, {'id': 10749, '...   \n",
       "2999  [{'id': 53, 'name': 'Thriller'}, {'id': 28, 'n...   \n",
       "\n",
       "                               homepage    imdb_id original_language  \\\n",
       "0                                   NaN  tt2637294                en   \n",
       "1                                   NaN  tt0368933                en   \n",
       "2     http://sonyclassics.com/whiplash/  tt2582802                en   \n",
       "3            http://kahaanithefilm.com/  tt1821480                hi   \n",
       "4                                   NaN  tt1380152                ko   \n",
       "...                                 ...        ...               ...   \n",
       "2995                                NaN  tt0109403                en   \n",
       "2996                                NaN  tt2364975                sv   \n",
       "2997                                NaN  tt0116908                en   \n",
       "2998     http://www.alongcamepolly.com/  tt0343135                en   \n",
       "2999   http://www.abductionthefilm.com/  tt1600195                en   \n",
       "\n",
       "                                original_title  \\\n",
       "0                       Hot Tub Time Machine 2   \n",
       "1     The Princess Diaries 2: Royal Engagement   \n",
       "2                                     Whiplash   \n",
       "3                                      Kahaani   \n",
       "4                                         마린보이   \n",
       "...                                        ...   \n",
       "2995                                   Chasers   \n",
       "2996                               Vi är bäst!   \n",
       "2997                   The Long Kiss Goodnight   \n",
       "2998                          Along Came Polly   \n",
       "2999                                 Abduction   \n",
       "\n",
       "                                               overview  popularity  ...  \\\n",
       "0     When Lou, who has become the \"father of the In...    6.575393  ...   \n",
       "1     Mia Thermopolis is now a college graduate and ...    8.248895  ...   \n",
       "2     Under the direction of a ruthless instructor, ...   64.299990  ...   \n",
       "3     Vidya Bagchi (Vidya Balan) arrives in Kolkata ...    3.174936  ...   \n",
       "4     Marine Boy is the story of a former national s...    1.148070  ...   \n",
       "...                                                 ...         ...  ...   \n",
       "2995  Military men Rock Reilly and Eddie Devane are ...    9.853270  ...   \n",
       "2996  Three girls in 1980s Stockholm decide to form ...    3.727996  ...   \n",
       "2997  Samantha Caine, suburban homemaker, is the ide...   14.482345  ...   \n",
       "2998  Reuben Feffer is a guy who's spent his entire ...   15.725542  ...   \n",
       "2999  A young man sets out to uncover the truth abou...   10.512109  ...   \n",
       "\n",
       "     release_date runtime                                   spoken_languages  \\\n",
       "0         2/20/15    93.0           [{'iso_639_1': 'en', 'name': 'English'}]   \n",
       "1          8/6/04   113.0           [{'iso_639_1': 'en', 'name': 'English'}]   \n",
       "2        10/10/14   105.0           [{'iso_639_1': 'en', 'name': 'English'}]   \n",
       "3          3/9/12   122.0  [{'iso_639_1': 'en', 'name': 'English'}, {'iso...   \n",
       "4          2/5/09   118.0           [{'iso_639_1': 'ko', 'name': '한국어/조선말'}]   \n",
       "...           ...     ...                                                ...   \n",
       "2995      4/22/94   102.0           [{'iso_639_1': 'en', 'name': 'English'}]   \n",
       "2996      3/28/13   102.0           [{'iso_639_1': 'sv', 'name': 'svenska'}]   \n",
       "2997     10/11/96   120.0           [{'iso_639_1': 'en', 'name': 'English'}]   \n",
       "2998      1/16/04    90.0           [{'iso_639_1': 'en', 'name': 'English'}]   \n",
       "2999      9/22/11   106.0           [{'iso_639_1': 'en', 'name': 'English'}]   \n",
       "\n",
       "        status                                            tagline  \\\n",
       "0     Released  The Laws of Space and Time are About to be Vio...   \n",
       "1     Released  It can take a lifetime to find true love; she'...   \n",
       "2     Released    The road to greatness can take you to the edge.   \n",
       "3     Released                                                NaN   \n",
       "4     Released                                                NaN   \n",
       "...        ...                                                ...   \n",
       "2995  Released  It was supposed to be a routine prisoner trans...   \n",
       "2996  Released                                                NaN   \n",
       "2997  Released               What's forgotten is not always gone.   \n",
       "2998  Released  For the most cautious man on Earth, life is ab...   \n",
       "2999  Released          They stole his life. He's taking it back.   \n",
       "\n",
       "                                         title  \\\n",
       "0                       Hot Tub Time Machine 2   \n",
       "1     The Princess Diaries 2: Royal Engagement   \n",
       "2                                     Whiplash   \n",
       "3                                      Kahaani   \n",
       "4                                   Marine Boy   \n",
       "...                                        ...   \n",
       "2995                                   Chasers   \n",
       "2996                          We Are the Best!   \n",
       "2997                   The Long Kiss Goodnight   \n",
       "2998                          Along Came Polly   \n",
       "2999                                 Abduction   \n",
       "\n",
       "                                               Keywords  \\\n",
       "0     [{'id': 4379, 'name': 'time travel'}, {'id': 9...   \n",
       "1     [{'id': 2505, 'name': 'coronation'}, {'id': 42...   \n",
       "2     [{'id': 1416, 'name': 'jazz'}, {'id': 1523, 'n...   \n",
       "3     [{'id': 10092, 'name': 'mystery'}, {'id': 1054...   \n",
       "4                                                   NaN   \n",
       "...                                                 ...   \n",
       "2995  [{'id': 378, 'name': 'prison'}, {'id': 572, 'n...   \n",
       "2996  [{'id': 1192, 'name': 'sweden'}, {'id': 4470, ...   \n",
       "2997  [{'id': 441, 'name': 'assassination'}, {'id': ...   \n",
       "2998  [{'id': 966, 'name': 'beach'}, {'id': 2676, 'n...   \n",
       "2999  [{'id': 591, 'name': 'cia'}, {'id': 822, 'name...   \n",
       "\n",
       "                                                   cast  \\\n",
       "0     [{'cast_id': 4, 'character': 'Lou', 'credit_id...   \n",
       "1     [{'cast_id': 1, 'character': 'Mia Thermopolis'...   \n",
       "2     [{'cast_id': 5, 'character': 'Andrew Neimann',...   \n",
       "3     [{'cast_id': 1, 'character': 'Vidya Bagchi', '...   \n",
       "4     [{'cast_id': 3, 'character': 'Chun-soo', 'cred...   \n",
       "...                                                 ...   \n",
       "2995  [{'cast_id': 2, 'character': 'Rock Reilly', 'c...   \n",
       "2996  [{'cast_id': 5, 'character': 'Bobo', 'credit_i...   \n",
       "2997  [{'cast_id': 10, 'character': 'Samantha Caine ...   \n",
       "2998  [{'cast_id': 8, 'character': 'Reuben Feffer', ...   \n",
       "2999  [{'cast_id': 2, 'character': 'Nathan Harper', ...   \n",
       "\n",
       "                                                   crew    revenue  \n",
       "0     [{'credit_id': '59ac067c92514107af02c8c8', 'de...   12314651  \n",
       "1     [{'credit_id': '52fe43fe9251416c7502563d', 'de...   95149435  \n",
       "2     [{'credit_id': '54d5356ec3a3683ba0000039', 'de...   13092000  \n",
       "3     [{'credit_id': '52fe48779251416c9108d6eb', 'de...   16000000  \n",
       "4     [{'credit_id': '52fe464b9251416c75073b43', 'de...    3923970  \n",
       "...                                                 ...        ...  \n",
       "2995  [{'credit_id': '52fe4494c3a368484e02ac7d', 'de...    1596687  \n",
       "2996  [{'credit_id': '5716b72ac3a3686678012c84', 'de...     180590  \n",
       "2997  [{'credit_id': '52fe443a9251416c7502d579', 'de...   89456761  \n",
       "2998  [{'credit_id': '556f817b9251410866000a63', 'de...  171963386  \n",
       "2999  [{'credit_id': '5391990d0e0a260fb5001629', 'de...   82087155  \n",
       "\n",
       "[3000 rows x 23 columns]"
      ]
     },
     "execution_count": 3,
     "metadata": {},
     "output_type": "execute_result"
    }
   ],
   "source": [
    "train"
   ]
  },
  {
   "cell_type": "code",
   "execution_count": 4,
   "metadata": {},
   "outputs": [
    {
     "data": {
      "text/html": [
       "<div>\n",
       "<style scoped>\n",
       "    .dataframe tbody tr th:only-of-type {\n",
       "        vertical-align: middle;\n",
       "    }\n",
       "\n",
       "    .dataframe tbody tr th {\n",
       "        vertical-align: top;\n",
       "    }\n",
       "\n",
       "    .dataframe thead th {\n",
       "        text-align: right;\n",
       "    }\n",
       "</style>\n",
       "<table border=\"1\" class=\"dataframe\">\n",
       "  <thead>\n",
       "    <tr style=\"text-align: right;\">\n",
       "      <th></th>\n",
       "      <th>id</th>\n",
       "      <th>belongs_to_collection</th>\n",
       "      <th>budget</th>\n",
       "      <th>genres</th>\n",
       "      <th>homepage</th>\n",
       "      <th>imdb_id</th>\n",
       "      <th>original_language</th>\n",
       "      <th>original_title</th>\n",
       "      <th>overview</th>\n",
       "      <th>popularity</th>\n",
       "      <th>...</th>\n",
       "      <th>production_countries</th>\n",
       "      <th>release_date</th>\n",
       "      <th>runtime</th>\n",
       "      <th>spoken_languages</th>\n",
       "      <th>status</th>\n",
       "      <th>tagline</th>\n",
       "      <th>title</th>\n",
       "      <th>Keywords</th>\n",
       "      <th>cast</th>\n",
       "      <th>crew</th>\n",
       "    </tr>\n",
       "  </thead>\n",
       "  <tbody>\n",
       "    <tr>\n",
       "      <th>0</th>\n",
       "      <td>3001</td>\n",
       "      <td>[{'id': 34055, 'name': 'Pokémon Collection', '...</td>\n",
       "      <td>0</td>\n",
       "      <td>[{'id': 12, 'name': 'Adventure'}, {'id': 16, '...</td>\n",
       "      <td>http://www.pokemon.com/us/movies/movie-pokemon...</td>\n",
       "      <td>tt1226251</td>\n",
       "      <td>ja</td>\n",
       "      <td>ディアルガVSパルキアVSダークライ</td>\n",
       "      <td>Ash and friends (this time accompanied by newc...</td>\n",
       "      <td>3.851534</td>\n",
       "      <td>...</td>\n",
       "      <td>[{'iso_3166_1': 'JP', 'name': 'Japan'}, {'iso_...</td>\n",
       "      <td>7/14/07</td>\n",
       "      <td>90.0</td>\n",
       "      <td>[{'iso_639_1': 'en', 'name': 'English'}, {'iso...</td>\n",
       "      <td>Released</td>\n",
       "      <td>Somewhere Between Time &amp; Space... A Legend Is ...</td>\n",
       "      <td>Pokémon: The Rise of Darkrai</td>\n",
       "      <td>[{'id': 11451, 'name': 'pok√©mon'}, {'id': 115...</td>\n",
       "      <td>[{'cast_id': 3, 'character': 'Tonio', 'credit_...</td>\n",
       "      <td>[{'credit_id': '52fe44e7c3a368484e03d683', 'de...</td>\n",
       "    </tr>\n",
       "    <tr>\n",
       "      <th>1</th>\n",
       "      <td>3002</td>\n",
       "      <td>NaN</td>\n",
       "      <td>88000</td>\n",
       "      <td>[{'id': 27, 'name': 'Horror'}, {'id': 878, 'na...</td>\n",
       "      <td>NaN</td>\n",
       "      <td>tt0051380</td>\n",
       "      <td>en</td>\n",
       "      <td>Attack of the 50 Foot Woman</td>\n",
       "      <td>When an abused wife grows to giant size becaus...</td>\n",
       "      <td>3.559789</td>\n",
       "      <td>...</td>\n",
       "      <td>[{'iso_3166_1': 'US', 'name': 'United States o...</td>\n",
       "      <td>5/19/58</td>\n",
       "      <td>65.0</td>\n",
       "      <td>[{'iso_639_1': 'en', 'name': 'English'}]</td>\n",
       "      <td>Released</td>\n",
       "      <td>A titanic beauty spreads a macabre wave of hor...</td>\n",
       "      <td>Attack of the 50 Foot Woman</td>\n",
       "      <td>[{'id': 9748, 'name': 'revenge'}, {'id': 9951,...</td>\n",
       "      <td>[{'cast_id': 2, 'character': 'Nancy Fowler Arc...</td>\n",
       "      <td>[{'credit_id': '55807805c3a3685b1300060b', 'de...</td>\n",
       "    </tr>\n",
       "    <tr>\n",
       "      <th>2</th>\n",
       "      <td>3003</td>\n",
       "      <td>NaN</td>\n",
       "      <td>0</td>\n",
       "      <td>[{'id': 35, 'name': 'Comedy'}, {'id': 10749, '...</td>\n",
       "      <td>NaN</td>\n",
       "      <td>tt0118556</td>\n",
       "      <td>en</td>\n",
       "      <td>Addicted to Love</td>\n",
       "      <td>Good-natured astronomer Sam is devastated when...</td>\n",
       "      <td>8.085194</td>\n",
       "      <td>...</td>\n",
       "      <td>[{'iso_3166_1': 'US', 'name': 'United States o...</td>\n",
       "      <td>5/23/97</td>\n",
       "      <td>100.0</td>\n",
       "      <td>[{'iso_639_1': 'en', 'name': 'English'}]</td>\n",
       "      <td>Released</td>\n",
       "      <td>A Comedy About Lost Loves And Last Laughs</td>\n",
       "      <td>Addicted to Love</td>\n",
       "      <td>[{'id': 931, 'name': 'jealousy'}, {'id': 9673,...</td>\n",
       "      <td>[{'cast_id': 11, 'character': 'Maggie', 'credi...</td>\n",
       "      <td>[{'credit_id': '52fe4330c3a36847f8041367', 'de...</td>\n",
       "    </tr>\n",
       "    <tr>\n",
       "      <th>3</th>\n",
       "      <td>3004</td>\n",
       "      <td>NaN</td>\n",
       "      <td>6800000</td>\n",
       "      <td>[{'id': 18, 'name': 'Drama'}, {'id': 10752, 'n...</td>\n",
       "      <td>http://www.sonyclassics.com/incendies/</td>\n",
       "      <td>tt1255953</td>\n",
       "      <td>fr</td>\n",
       "      <td>Incendies</td>\n",
       "      <td>A mother's last wishes send twins Jeanne and S...</td>\n",
       "      <td>8.596012</td>\n",
       "      <td>...</td>\n",
       "      <td>[{'iso_3166_1': 'CA', 'name': 'Canada'}, {'iso...</td>\n",
       "      <td>9/4/10</td>\n",
       "      <td>130.0</td>\n",
       "      <td>[{'iso_639_1': 'fr', 'name': 'Français'}, {'is...</td>\n",
       "      <td>Released</td>\n",
       "      <td>The search began at the opening of their mothe...</td>\n",
       "      <td>Incendies</td>\n",
       "      <td>[{'id': 378, 'name': 'prison'}, {'id': 539, 'n...</td>\n",
       "      <td>[{'cast_id': 6, 'character': 'Nawal', 'credit_...</td>\n",
       "      <td>[{'credit_id': '56478092c3a36826140043af', 'de...</td>\n",
       "    </tr>\n",
       "    <tr>\n",
       "      <th>4</th>\n",
       "      <td>3005</td>\n",
       "      <td>NaN</td>\n",
       "      <td>2000000</td>\n",
       "      <td>[{'id': 36, 'name': 'History'}, {'id': 99, 'na...</td>\n",
       "      <td>NaN</td>\n",
       "      <td>tt0418753</td>\n",
       "      <td>en</td>\n",
       "      <td>Inside Deep Throat</td>\n",
       "      <td>In 1972, a seemingly typical shoestring budget...</td>\n",
       "      <td>3.217680</td>\n",
       "      <td>...</td>\n",
       "      <td>[{'iso_3166_1': 'US', 'name': 'United States o...</td>\n",
       "      <td>2/11/05</td>\n",
       "      <td>92.0</td>\n",
       "      <td>[{'iso_639_1': 'en', 'name': 'English'}]</td>\n",
       "      <td>Released</td>\n",
       "      <td>It was filmed in 6 days for 25 thousand dollar...</td>\n",
       "      <td>Inside Deep Throat</td>\n",
       "      <td>[{'id': 279, 'name': 'usa'}, {'id': 1228, 'nam...</td>\n",
       "      <td>[{'cast_id': 1, 'character': 'Narrator (voice)...</td>\n",
       "      <td>[{'credit_id': '52fe44ce9251416c75041967', 'de...</td>\n",
       "    </tr>\n",
       "    <tr>\n",
       "      <th>...</th>\n",
       "      <td>...</td>\n",
       "      <td>...</td>\n",
       "      <td>...</td>\n",
       "      <td>...</td>\n",
       "      <td>...</td>\n",
       "      <td>...</td>\n",
       "      <td>...</td>\n",
       "      <td>...</td>\n",
       "      <td>...</td>\n",
       "      <td>...</td>\n",
       "      <td>...</td>\n",
       "      <td>...</td>\n",
       "      <td>...</td>\n",
       "      <td>...</td>\n",
       "      <td>...</td>\n",
       "      <td>...</td>\n",
       "      <td>...</td>\n",
       "      <td>...</td>\n",
       "      <td>...</td>\n",
       "      <td>...</td>\n",
       "      <td>...</td>\n",
       "    </tr>\n",
       "    <tr>\n",
       "      <th>4393</th>\n",
       "      <td>7394</td>\n",
       "      <td>NaN</td>\n",
       "      <td>42000000</td>\n",
       "      <td>[{'id': 53, 'name': 'Thriller'}]</td>\n",
       "      <td>NaN</td>\n",
       "      <td>tt0218922</td>\n",
       "      <td>en</td>\n",
       "      <td>Original Sin</td>\n",
       "      <td>A young man is plunged into a life of subterfu...</td>\n",
       "      <td>9.970359</td>\n",
       "      <td>...</td>\n",
       "      <td>[{'iso_3166_1': 'FR', 'name': 'France'}, {'iso...</td>\n",
       "      <td>8/3/01</td>\n",
       "      <td>118.0</td>\n",
       "      <td>[{'iso_639_1': 'en', 'name': 'English'}, {'iso...</td>\n",
       "      <td>Released</td>\n",
       "      <td>This is not a love story - it's a story about ...</td>\n",
       "      <td>Original Sin</td>\n",
       "      <td>[{'id': 515, 'name': 'women'}, {'id': 572, 'na...</td>\n",
       "      <td>[{'cast_id': 17, 'character': 'Julia Russell/B...</td>\n",
       "      <td>[{'credit_id': '52fe4330c3a36847f80412db', 'de...</td>\n",
       "    </tr>\n",
       "    <tr>\n",
       "      <th>4394</th>\n",
       "      <td>7395</td>\n",
       "      <td>[{'id': 146534, 'name': 'Without a Paddle Coll...</td>\n",
       "      <td>19000000</td>\n",
       "      <td>[{'id': 28, 'name': 'Action'}, {'id': 12, 'nam...</td>\n",
       "      <td>NaN</td>\n",
       "      <td>tt0364751</td>\n",
       "      <td>en</td>\n",
       "      <td>Without a Paddle</td>\n",
       "      <td>Three friends, whose lives have been drifting ...</td>\n",
       "      <td>6.046516</td>\n",
       "      <td>...</td>\n",
       "      <td>[{'iso_3166_1': 'US', 'name': 'United States o...</td>\n",
       "      <td>8/20/04</td>\n",
       "      <td>95.0</td>\n",
       "      <td>[{'iso_639_1': 'en', 'name': 'English'}]</td>\n",
       "      <td>Released</td>\n",
       "      <td>The call of the wild, the thrill of adventure....</td>\n",
       "      <td>Without a Paddle</td>\n",
       "      <td>[{'id': 4959, 'name': 'death of a friend'}, {'...</td>\n",
       "      <td>[{'cast_id': 40, 'character': 'Dan Mott', 'cre...</td>\n",
       "      <td>[{'credit_id': '52fe43b29251416c7501a909', 'de...</td>\n",
       "    </tr>\n",
       "    <tr>\n",
       "      <th>4395</th>\n",
       "      <td>7396</td>\n",
       "      <td>NaN</td>\n",
       "      <td>16000000</td>\n",
       "      <td>[{'id': 18, 'name': 'Drama'}]</td>\n",
       "      <td>NaN</td>\n",
       "      <td>tt0084855</td>\n",
       "      <td>en</td>\n",
       "      <td>The Verdict</td>\n",
       "      <td>Frank Galvin is a down-on-his luck lawyer, red...</td>\n",
       "      <td>9.596883</td>\n",
       "      <td>...</td>\n",
       "      <td>[{'iso_3166_1': 'US', 'name': 'United States o...</td>\n",
       "      <td>12/8/82</td>\n",
       "      <td>129.0</td>\n",
       "      <td>[{'iso_639_1': 'en', 'name': 'English'}]</td>\n",
       "      <td>Released</td>\n",
       "      <td>The doctors want to settle, the Church wants t...</td>\n",
       "      <td>The Verdict</td>\n",
       "      <td>[{'id': 1680, 'name': 'boston'}, {'id': 6148, ...</td>\n",
       "      <td>[{'cast_id': 1, 'character': 'Frank Galvin', '...</td>\n",
       "      <td>[{'credit_id': '52fe448bc3a368484e028c55', 'de...</td>\n",
       "    </tr>\n",
       "    <tr>\n",
       "      <th>4396</th>\n",
       "      <td>7397</td>\n",
       "      <td>NaN</td>\n",
       "      <td>2000000</td>\n",
       "      <td>[{'id': 27, 'name': 'Horror'}, {'id': 53, 'nam...</td>\n",
       "      <td>NaN</td>\n",
       "      <td>tt3235888</td>\n",
       "      <td>en</td>\n",
       "      <td>It Follows</td>\n",
       "      <td>For 19-year-old Jay, fall should be about scho...</td>\n",
       "      <td>20.359336</td>\n",
       "      <td>...</td>\n",
       "      <td>[{'iso_3166_1': 'US', 'name': 'United States o...</td>\n",
       "      <td>2/4/15</td>\n",
       "      <td>100.0</td>\n",
       "      <td>[{'iso_639_1': 'en', 'name': 'English'}]</td>\n",
       "      <td>Released</td>\n",
       "      <td>It doesn't think, it doesn't feel, it doesn't ...</td>\n",
       "      <td>It Follows</td>\n",
       "      <td>[{'id': 3713, 'name': 'chase'}, {'id': 6152, '...</td>\n",
       "      <td>[{'cast_id': 1, 'character': 'Jay Height', 'cr...</td>\n",
       "      <td>[{'credit_id': '537770b20e0a261431002299', 'de...</td>\n",
       "    </tr>\n",
       "    <tr>\n",
       "      <th>4397</th>\n",
       "      <td>7398</td>\n",
       "      <td>NaN</td>\n",
       "      <td>64000</td>\n",
       "      <td>[{'id': 18, 'name': 'Drama'}]</td>\n",
       "      <td>NaN</td>\n",
       "      <td>tt0056663</td>\n",
       "      <td>fr</td>\n",
       "      <td>Vivre sa vie: film en douze tableaux</td>\n",
       "      <td>Twelve episodic tales in the life of a Parisia...</td>\n",
       "      <td>11.305910</td>\n",
       "      <td>...</td>\n",
       "      <td>[{'iso_3166_1': 'FR', 'name': 'France'}]</td>\n",
       "      <td>9/20/62</td>\n",
       "      <td>85.0</td>\n",
       "      <td>[{'iso_639_1': 'fr', 'name': 'Français'}]</td>\n",
       "      <td>Released</td>\n",
       "      <td>The many faces of a woman trying to find herse...</td>\n",
       "      <td>Vivre Sa Vie</td>\n",
       "      <td>[{'id': 90, 'name': 'paris'}, {'id': 490, 'nam...</td>\n",
       "      <td>[{'cast_id': 8, 'character': 'Nana Kleinfranke...</td>\n",
       "      <td>[{'credit_id': '52fe4306c3a36847f80349a5', 'de...</td>\n",
       "    </tr>\n",
       "  </tbody>\n",
       "</table>\n",
       "<p>4398 rows × 22 columns</p>\n",
       "</div>"
      ],
      "text/plain": [
       "        id                              belongs_to_collection    budget  \\\n",
       "0     3001  [{'id': 34055, 'name': 'Pokémon Collection', '...         0   \n",
       "1     3002                                                NaN     88000   \n",
       "2     3003                                                NaN         0   \n",
       "3     3004                                                NaN   6800000   \n",
       "4     3005                                                NaN   2000000   \n",
       "...    ...                                                ...       ...   \n",
       "4393  7394                                                NaN  42000000   \n",
       "4394  7395  [{'id': 146534, 'name': 'Without a Paddle Coll...  19000000   \n",
       "4395  7396                                                NaN  16000000   \n",
       "4396  7397                                                NaN   2000000   \n",
       "4397  7398                                                NaN     64000   \n",
       "\n",
       "                                                 genres  \\\n",
       "0     [{'id': 12, 'name': 'Adventure'}, {'id': 16, '...   \n",
       "1     [{'id': 27, 'name': 'Horror'}, {'id': 878, 'na...   \n",
       "2     [{'id': 35, 'name': 'Comedy'}, {'id': 10749, '...   \n",
       "3     [{'id': 18, 'name': 'Drama'}, {'id': 10752, 'n...   \n",
       "4     [{'id': 36, 'name': 'History'}, {'id': 99, 'na...   \n",
       "...                                                 ...   \n",
       "4393                   [{'id': 53, 'name': 'Thriller'}]   \n",
       "4394  [{'id': 28, 'name': 'Action'}, {'id': 12, 'nam...   \n",
       "4395                      [{'id': 18, 'name': 'Drama'}]   \n",
       "4396  [{'id': 27, 'name': 'Horror'}, {'id': 53, 'nam...   \n",
       "4397                      [{'id': 18, 'name': 'Drama'}]   \n",
       "\n",
       "                                               homepage    imdb_id  \\\n",
       "0     http://www.pokemon.com/us/movies/movie-pokemon...  tt1226251   \n",
       "1                                                   NaN  tt0051380   \n",
       "2                                                   NaN  tt0118556   \n",
       "3                http://www.sonyclassics.com/incendies/  tt1255953   \n",
       "4                                                   NaN  tt0418753   \n",
       "...                                                 ...        ...   \n",
       "4393                                                NaN  tt0218922   \n",
       "4394                                                NaN  tt0364751   \n",
       "4395                                                NaN  tt0084855   \n",
       "4396                                                NaN  tt3235888   \n",
       "4397                                                NaN  tt0056663   \n",
       "\n",
       "     original_language                        original_title  \\\n",
       "0                   ja                    ディアルガVSパルキアVSダークライ   \n",
       "1                   en           Attack of the 50 Foot Woman   \n",
       "2                   en                      Addicted to Love   \n",
       "3                   fr                             Incendies   \n",
       "4                   en                    Inside Deep Throat   \n",
       "...                ...                                   ...   \n",
       "4393                en                          Original Sin   \n",
       "4394                en                      Without a Paddle   \n",
       "4395                en                           The Verdict   \n",
       "4396                en                            It Follows   \n",
       "4397                fr  Vivre sa vie: film en douze tableaux   \n",
       "\n",
       "                                               overview  popularity  ...  \\\n",
       "0     Ash and friends (this time accompanied by newc...    3.851534  ...   \n",
       "1     When an abused wife grows to giant size becaus...    3.559789  ...   \n",
       "2     Good-natured astronomer Sam is devastated when...    8.085194  ...   \n",
       "3     A mother's last wishes send twins Jeanne and S...    8.596012  ...   \n",
       "4     In 1972, a seemingly typical shoestring budget...    3.217680  ...   \n",
       "...                                                 ...         ...  ...   \n",
       "4393  A young man is plunged into a life of subterfu...    9.970359  ...   \n",
       "4394  Three friends, whose lives have been drifting ...    6.046516  ...   \n",
       "4395  Frank Galvin is a down-on-his luck lawyer, red...    9.596883  ...   \n",
       "4396  For 19-year-old Jay, fall should be about scho...   20.359336  ...   \n",
       "4397  Twelve episodic tales in the life of a Parisia...   11.305910  ...   \n",
       "\n",
       "                                   production_countries release_date runtime  \\\n",
       "0     [{'iso_3166_1': 'JP', 'name': 'Japan'}, {'iso_...      7/14/07    90.0   \n",
       "1     [{'iso_3166_1': 'US', 'name': 'United States o...      5/19/58    65.0   \n",
       "2     [{'iso_3166_1': 'US', 'name': 'United States o...      5/23/97   100.0   \n",
       "3     [{'iso_3166_1': 'CA', 'name': 'Canada'}, {'iso...       9/4/10   130.0   \n",
       "4     [{'iso_3166_1': 'US', 'name': 'United States o...      2/11/05    92.0   \n",
       "...                                                 ...          ...     ...   \n",
       "4393  [{'iso_3166_1': 'FR', 'name': 'France'}, {'iso...       8/3/01   118.0   \n",
       "4394  [{'iso_3166_1': 'US', 'name': 'United States o...      8/20/04    95.0   \n",
       "4395  [{'iso_3166_1': 'US', 'name': 'United States o...      12/8/82   129.0   \n",
       "4396  [{'iso_3166_1': 'US', 'name': 'United States o...       2/4/15   100.0   \n",
       "4397           [{'iso_3166_1': 'FR', 'name': 'France'}]      9/20/62    85.0   \n",
       "\n",
       "                                       spoken_languages    status  \\\n",
       "0     [{'iso_639_1': 'en', 'name': 'English'}, {'iso...  Released   \n",
       "1              [{'iso_639_1': 'en', 'name': 'English'}]  Released   \n",
       "2              [{'iso_639_1': 'en', 'name': 'English'}]  Released   \n",
       "3     [{'iso_639_1': 'fr', 'name': 'Français'}, {'is...  Released   \n",
       "4              [{'iso_639_1': 'en', 'name': 'English'}]  Released   \n",
       "...                                                 ...       ...   \n",
       "4393  [{'iso_639_1': 'en', 'name': 'English'}, {'iso...  Released   \n",
       "4394           [{'iso_639_1': 'en', 'name': 'English'}]  Released   \n",
       "4395           [{'iso_639_1': 'en', 'name': 'English'}]  Released   \n",
       "4396           [{'iso_639_1': 'en', 'name': 'English'}]  Released   \n",
       "4397          [{'iso_639_1': 'fr', 'name': 'Français'}]  Released   \n",
       "\n",
       "                                                tagline  \\\n",
       "0     Somewhere Between Time & Space... A Legend Is ...   \n",
       "1     A titanic beauty spreads a macabre wave of hor...   \n",
       "2             A Comedy About Lost Loves And Last Laughs   \n",
       "3     The search began at the opening of their mothe...   \n",
       "4     It was filmed in 6 days for 25 thousand dollar...   \n",
       "...                                                 ...   \n",
       "4393  This is not a love story - it's a story about ...   \n",
       "4394  The call of the wild, the thrill of adventure....   \n",
       "4395  The doctors want to settle, the Church wants t...   \n",
       "4396  It doesn't think, it doesn't feel, it doesn't ...   \n",
       "4397  The many faces of a woman trying to find herse...   \n",
       "\n",
       "                             title  \\\n",
       "0     Pokémon: The Rise of Darkrai   \n",
       "1      Attack of the 50 Foot Woman   \n",
       "2                 Addicted to Love   \n",
       "3                        Incendies   \n",
       "4               Inside Deep Throat   \n",
       "...                            ...   \n",
       "4393                  Original Sin   \n",
       "4394              Without a Paddle   \n",
       "4395                   The Verdict   \n",
       "4396                    It Follows   \n",
       "4397                  Vivre Sa Vie   \n",
       "\n",
       "                                               Keywords  \\\n",
       "0     [{'id': 11451, 'name': 'pok√©mon'}, {'id': 115...   \n",
       "1     [{'id': 9748, 'name': 'revenge'}, {'id': 9951,...   \n",
       "2     [{'id': 931, 'name': 'jealousy'}, {'id': 9673,...   \n",
       "3     [{'id': 378, 'name': 'prison'}, {'id': 539, 'n...   \n",
       "4     [{'id': 279, 'name': 'usa'}, {'id': 1228, 'nam...   \n",
       "...                                                 ...   \n",
       "4393  [{'id': 515, 'name': 'women'}, {'id': 572, 'na...   \n",
       "4394  [{'id': 4959, 'name': 'death of a friend'}, {'...   \n",
       "4395  [{'id': 1680, 'name': 'boston'}, {'id': 6148, ...   \n",
       "4396  [{'id': 3713, 'name': 'chase'}, {'id': 6152, '...   \n",
       "4397  [{'id': 90, 'name': 'paris'}, {'id': 490, 'nam...   \n",
       "\n",
       "                                                   cast  \\\n",
       "0     [{'cast_id': 3, 'character': 'Tonio', 'credit_...   \n",
       "1     [{'cast_id': 2, 'character': 'Nancy Fowler Arc...   \n",
       "2     [{'cast_id': 11, 'character': 'Maggie', 'credi...   \n",
       "3     [{'cast_id': 6, 'character': 'Nawal', 'credit_...   \n",
       "4     [{'cast_id': 1, 'character': 'Narrator (voice)...   \n",
       "...                                                 ...   \n",
       "4393  [{'cast_id': 17, 'character': 'Julia Russell/B...   \n",
       "4394  [{'cast_id': 40, 'character': 'Dan Mott', 'cre...   \n",
       "4395  [{'cast_id': 1, 'character': 'Frank Galvin', '...   \n",
       "4396  [{'cast_id': 1, 'character': 'Jay Height', 'cr...   \n",
       "4397  [{'cast_id': 8, 'character': 'Nana Kleinfranke...   \n",
       "\n",
       "                                                   crew  \n",
       "0     [{'credit_id': '52fe44e7c3a368484e03d683', 'de...  \n",
       "1     [{'credit_id': '55807805c3a3685b1300060b', 'de...  \n",
       "2     [{'credit_id': '52fe4330c3a36847f8041367', 'de...  \n",
       "3     [{'credit_id': '56478092c3a36826140043af', 'de...  \n",
       "4     [{'credit_id': '52fe44ce9251416c75041967', 'de...  \n",
       "...                                                 ...  \n",
       "4393  [{'credit_id': '52fe4330c3a36847f80412db', 'de...  \n",
       "4394  [{'credit_id': '52fe43b29251416c7501a909', 'de...  \n",
       "4395  [{'credit_id': '52fe448bc3a368484e028c55', 'de...  \n",
       "4396  [{'credit_id': '537770b20e0a261431002299', 'de...  \n",
       "4397  [{'credit_id': '52fe4306c3a36847f80349a5', 'de...  \n",
       "\n",
       "[4398 rows x 22 columns]"
      ]
     },
     "execution_count": 4,
     "metadata": {},
     "output_type": "execute_result"
    }
   ],
   "source": [
    "test"
   ]
  },
  {
   "cell_type": "code",
   "execution_count": 5,
   "metadata": {},
   "outputs": [
    {
     "name": "stdout",
     "output_type": "stream",
     "text": [
      "Nr columns and rows of the train set:  (3000, 23)\n",
      "Nr columns and rows of the test set:  (4398, 22)\n"
     ]
    }
   ],
   "source": [
    "print(\"Nr columns and rows of the train set: \", train.shape)\n",
    "print(\"Nr columns and rows of the test set: \", test.shape)"
   ]
  },
  {
   "cell_type": "code",
   "execution_count": 6,
   "metadata": {},
   "outputs": [
    {
     "name": "stdout",
     "output_type": "stream",
     "text": [
      "<class 'pandas.core.frame.DataFrame'>\n",
      "RangeIndex: 3000 entries, 0 to 2999\n",
      "Data columns (total 23 columns):\n",
      " #   Column                 Non-Null Count  Dtype  \n",
      "---  ------                 --------------  -----  \n",
      " 0   id                     3000 non-null   int64  \n",
      " 1   belongs_to_collection  604 non-null    object \n",
      " 2   budget                 3000 non-null   int64  \n",
      " 3   genres                 2993 non-null   object \n",
      " 4   homepage               946 non-null    object \n",
      " 5   imdb_id                3000 non-null   object \n",
      " 6   original_language      3000 non-null   object \n",
      " 7   original_title         3000 non-null   object \n",
      " 8   overview               2992 non-null   object \n",
      " 9   popularity             3000 non-null   float64\n",
      " 10  poster_path            2999 non-null   object \n",
      " 11  production_companies   2844 non-null   object \n",
      " 12  production_countries   2945 non-null   object \n",
      " 13  release_date           3000 non-null   object \n",
      " 14  runtime                2998 non-null   float64\n",
      " 15  spoken_languages       2980 non-null   object \n",
      " 16  status                 3000 non-null   object \n",
      " 17  tagline                2403 non-null   object \n",
      " 18  title                  3000 non-null   object \n",
      " 19  Keywords               2724 non-null   object \n",
      " 20  cast                   2987 non-null   object \n",
      " 21  crew                   2984 non-null   object \n",
      " 22  revenue                3000 non-null   int64  \n",
      "dtypes: float64(2), int64(3), object(18)\n",
      "memory usage: 539.2+ KB\n"
     ]
    }
   ],
   "source": [
    "train.info()"
   ]
  },
  {
   "cell_type": "code",
   "execution_count": 7,
   "metadata": {},
   "outputs": [
    {
     "name": "stdout",
     "output_type": "stream",
     "text": [
      "Train set missing values:\n",
      " id                          0\n",
      "belongs_to_collection    2396\n",
      "budget                      0\n",
      "genres                      7\n",
      "homepage                 2054\n",
      "imdb_id                     0\n",
      "original_language           0\n",
      "original_title              0\n",
      "overview                    8\n",
      "popularity                  0\n",
      "poster_path                 1\n",
      "production_companies      156\n",
      "production_countries       55\n",
      "release_date                0\n",
      "runtime                     2\n",
      "spoken_languages           20\n",
      "status                      0\n",
      "tagline                   597\n",
      "title                       0\n",
      "Keywords                  276\n",
      "cast                       13\n",
      "crew                       16\n",
      "revenue                     0\n",
      "dtype: int64\n",
      "\n",
      "Test set missing values:\n",
      " id                          0\n",
      "belongs_to_collection    3521\n",
      "budget                      0\n",
      "genres                     16\n",
      "homepage                 2978\n",
      "imdb_id                     0\n",
      "original_language           0\n",
      "original_title              0\n",
      "overview                   14\n",
      "popularity                  0\n",
      "poster_path                 1\n",
      "production_companies      258\n",
      "production_countries      102\n",
      "release_date                1\n",
      "runtime                     4\n",
      "spoken_languages           42\n",
      "status                      2\n",
      "tagline                   863\n",
      "title                       3\n",
      "Keywords                  393\n",
      "cast                       13\n",
      "crew                       22\n",
      "dtype: int64\n"
     ]
    }
   ],
   "source": [
    "print(\"Train set missing values:\\n\", train.isna().sum())\n",
    "print(\"\\nTest set missing values:\\n\", test.isna().sum())"
   ]
  },
  {
   "cell_type": "code",
   "execution_count": 8,
   "metadata": {},
   "outputs": [
    {
     "data": {
      "text/plain": [
       "'Jails, Hospitals & Hip-Hop'"
      ]
     },
     "execution_count": 8,
     "metadata": {},
     "output_type": "execute_result"
    }
   ],
   "source": [
    "test.loc[test['release_date'].isnull() == True, 'release_date']\n",
    "test.loc[828]['title']\n",
    "#Google search shows that the release date of the movie was on 5th May 2000"
   ]
  },
  {
   "cell_type": "markdown",
   "metadata": {},
   "source": [
    "## Data Analysis and Feature Engineering"
   ]
  },
  {
   "cell_type": "code",
   "execution_count": 9,
   "metadata": {},
   "outputs": [],
   "source": [
    "columns_to_drop = ['id', 'imdb_id', 'original_title', 'poster_path', 'title', 'status']\n",
    "\n",
    "def common_features(train, test):\n",
    "    return list(set(test.columns).intersection(set(train.columns)))\n",
    "\n",
    "def drop_uncommons(train, test):\n",
    "    commons = common_features(train, test)\n",
    "\n",
    "    for col in train.columns:\n",
    "        if (col not in commons):\n",
    "            train = train.drop(col, axis=1)\n",
    "    for col in test.columns:\n",
    "        if (col not in commons):\n",
    "            test = test.drop(col, axis=1)\n",
    "    return train, test \n",
    "\n",
    "def get_dictionary(s):\n",
    "    try:\n",
    "        d = eval(s)\n",
    "    except:\n",
    "        d = {}\n",
    "    return d\n",
    "\n",
    "def json_to_dict(df):\n",
    "    for col in json_cols:\n",
    "        df[col] = df[col].apply(lambda x: get_dictionary(x))\n",
    "    return df\n",
    "        \n",
    "def data_processed(df, column):\n",
    "    df[column] = df[column].fillna(\"\")\n",
    "    df[column+'_names'] = df[column].apply(lambda x: re.findall(\"'name': \\'(.+?)\\'\", x))\n",
    "    df['num_'+column] = df[column+'_names'].apply(lambda x: len(x))\n",
    "    return df\n",
    "    \n",
    "def top_actors(df):\n",
    "    actors_dict = {}\n",
    "    size_of_actors = df.cast.count()\n",
    "\n",
    "    for element in df[['revenue', 'cast_names']].values:\n",
    "        for actor in element[1]:\n",
    "            if actor not in actors_dict:      \n",
    "                actors_dict[actor] = element[0]\n",
    "            else:\n",
    "                actors_dict[actor] += element[0]\n",
    "\n",
    "    for actor in actors_dict:\n",
    "        actors_dict[actor] = actors_dict[actor]/size_of_actors\n",
    "    actors_dict = {k: v for k, v in sorted(actors_dict.items(), key=lambda item: item[1], reverse = True)}\n",
    "    return actors_dict\n",
    "\n",
    "def check_top_actors(cast, actors_dict):\n",
    "    if len(cast) < 1:\n",
    "        return 0\n",
    "    count = 0\n",
    "    for actor in cast[:5]:\n",
    "        if actor in list(actors_dict)[:100]:\n",
    "            count += 1\n",
    "    return count\n",
    "\n",
    "def cast(train, test):\n",
    "    train = data_processed(train, 'cast')\n",
    "    test = data_processed(test, 'cast')\n",
    "    cast_dict = {}\n",
    "    cast_dict = top_actors(train)\n",
    "    train[\"num_female_cast\"] = train[\"cast\"].str.count(\"'gender': 1\")\n",
    "    test[\"num_female_cast\"] = test[\"cast\"].str.count(\"'gender': 1\")\n",
    "    train[\"num_male_cast\"] = train[\"cast\"].str.count(\"'gender': 2\")\n",
    "    test[\"num_male_cast\"] = test[\"cast\"].str.count(\"'gender': 2\")\n",
    "    train['num_top_actors'] = train['cast_names'].apply(lambda x: check_top_actors(x, cast_dict))\n",
    "    test['num_top_actors'] = test['cast_names'].apply(lambda x: check_top_actors(x, cast_dict))\n",
    "    train = train.drop(['cast_names', 'cast'], axis = 1) \n",
    "    test = test.drop(['cast_names', 'cast'], axis = 1) \n",
    "    return train, test\n",
    "\n",
    "def crew(df):\n",
    "    df[\"crew\"] = df[\"crew\"].fillna(\"\")\n",
    "    df[\"num_crew\"] = df[\"crew\"].str.count(\"'job\")\n",
    "    df[\"num_female_crew\"] = df[\"crew\"].str.count(\"'gender': 1\")\n",
    "    df[\"num_male_crew\"] = df[\"crew\"].str.count(\"'gender': 2\")\n",
    "    df[\"num_directors\"] = df[\"crew\"].str.count(\"Directing\")\n",
    "    df[\"num_producers\"] = df[\"crew\"].str.count(\"Production\")    \n",
    "    df[\"num_editors\"] = df[\"crew\"].str.count(\"Editing\")\n",
    "    df = df.drop(['crew'], axis = 1) \n",
    "    return df\n",
    "    \n",
    "def Keywords(df):  \n",
    "    df['Keywords'] = df.Keywords.apply(lambda x: 1 if type(x) == str else 0)\n",
    "    return df\n",
    "\n",
    "def fill_runtime(df):\n",
    "    median_runtime = df[df['runtime'] > 0]['runtime'].median()\n",
    "    df['runtime_is_median'] = 0\n",
    "    df.loc[df.runtime == 0, 'runtime_is_median'] = 1\n",
    "    df.loc[df.runtime.isnull() == True, 'runtime_is_median'] = 1\n",
    "    df.loc[df.runtime == 0, 'runtime'] = median_runtime\n",
    "    df.loc[df.runtime.isnull() == True, 'runtime'] = median_runtime\n",
    "    return df\n",
    "\n",
    "def fill_budget(df):\n",
    "    median_budget = df[df['budget'] > 0]['budget'].median()\n",
    "    df['budget_is_median'] = 0\n",
    "    df.loc[df.budget == 0, 'budget_is_median'] = 1\n",
    "    df.loc[df.budget.isnull() == True, 'budget_is_median'] = 1\n",
    "    df.loc[df.budget == 0, 'budget'] = median_budget\n",
    "    df.loc[df.budget.isnull() == True, 'budget'] = median_budget\n",
    "    return df\n",
    "\n",
    "def genre_encoding(series):\n",
    "    string_list = []\n",
    "    for i in series:\n",
    "        string = []\n",
    "        if (i != \"\"):\n",
    "            o = ast.literal_eval(i)\n",
    "            for i in o:\n",
    "                for j in i.items():\n",
    "                    if (j[0] == 'name'):\n",
    "                        string.append(j[1])\n",
    "        string_list.append(' + '.join(string))\n",
    "    return LabelEncoder().fit_transform(string_list)\n",
    "\n",
    "def unpackCol(list, df):\n",
    "    for i in range(len(df)):\n",
    "        for name in list[i]:\n",
    "            if name not in df.columns:\n",
    "                df[name] = 0\n",
    "            df[name][i] = 1\n",
    "            \n",
    "def genres_by_mean_revenue(df):\n",
    "    unpackCol(df['genres_names'], df)\n",
    "    genresList = []\n",
    "    genresDict = dict()\n",
    "    for genre in df[\"genres_names\"]:\n",
    "        for elem in genre:\n",
    "            if elem not in genresList:\n",
    "                genresList.append(elem)\n",
    "    for column in df.columns[1:]:\n",
    "        if column in genresList:\n",
    "            genresDict[column] = df.loc[df[column] == 1]['revenue'].mean()\n",
    "    sorted_dict = {}\n",
    "    sorted_keys = sorted(genresDict, key=genresDict.get, reverse=True) \n",
    "    for w in sorted_keys:\n",
    "        sorted_dict[w] = genresDict[w]\n",
    "    return sorted_dict, genresList\n",
    "\n",
    "def genres(train, test):\n",
    "    train = data_processed(train, 'genres')\n",
    "    test = data_processed(test, 'genres')\n",
    "    genre_dict = dict()\n",
    "    genre_list = []\n",
    "    genre_dict, genre_list = genres_by_mean_revenue(train)\n",
    "    unpackCol(test['genres_names'], test)   \n",
    "    for i, key in enumerate(genre_dict):\n",
    "        if (i>=0 and i<5):\n",
    "            genre_list.remove(key)\n",
    "    train = train.drop(genre_list, axis = 1)\n",
    "    test = test.drop(genre_list, axis = 1, errors='ignore')\n",
    "    train['genres'] = genre_encoding(train['genres'])\n",
    "    test['genres'] = genre_encoding(test['genres'])\n",
    "    train = train.drop(['genres_names'], axis = 1)  \n",
    "    test = test.drop(['genres_names'], axis = 1)  \n",
    "    return train, test\n",
    "\n",
    "def production_companies(df):\n",
    "    df = data_processed(df, 'production_companies')\n",
    "    df = df.drop(['production_companies_names', 'production_companies'], axis = 1) \n",
    "    return df\n",
    "\n",
    "def production_countries(df):\n",
    "    df = data_processed(df, 'production_countries')\n",
    "    df['usa_produced'] = df.production_countries_names.apply(lambda x: 1 if 'United States of America' in x else 0)\n",
    "    df = df.drop(['production_countries_names', 'production_countries'], axis = 1) \n",
    "    return df\n",
    "\n",
    "def spoken_languages(df):\n",
    "    df = data_processed(df, 'spoken_languages')\n",
    "    df = df.drop(['spoken_languages_names', 'spoken_languages'], axis = 1) \n",
    "    return df\n",
    "\n",
    "def overview(df): \n",
    "    df['overview'] = df.overview.fillna(\"\")\n",
    "    df['overview'] = df.overview.str.split().str.len()\n",
    "    return df\n",
    "\n",
    "def fill_missing_values(df):\n",
    "    df = df.fillna('0')\n",
    "    return df\n",
    "\n",
    "def original_language(df):\n",
    "    df['in_english'] = df.original_language.apply(lambda x: 1 if x == 'en' else 0)\n",
    "    le = LabelEncoder()\n",
    "    le.fit(df['original_language'])\n",
    "    df['original_language'] = le.transform(df['original_language'])\n",
    "    return df\n",
    "\n",
    "# This feature will store 0 for movies that don't have a homepage, and 1 for movies that do\n",
    "def homepage(df):\n",
    "    df['homepage'] = df['homepage'].apply(lambda x: 0 if x == '0' else 1)\n",
    "    return df\n",
    "\n",
    "def belongs_to_collection(df): \n",
    "    df['belongs_to_collection'] = df['belongs_to_collection'].apply(lambda x: 0 if x == '0' else 1)\n",
    "    return df\n",
    "\n",
    "def tagline(df): \n",
    "    df['tagline'] = df['tagline'].apply(lambda x: 0 if x == '0' else 1)\n",
    "    return df\n",
    "\n",
    "def date_features(df):\n",
    "    df[['release_month','release_day','release_year']]=df['release_date'].str.split('/',expand=True).replace(np.nan, 0).astype(int)\n",
    "    df['release_year'] = df['release_year']\n",
    "    df.loc[ (df['release_year'] <= 20) & (df['release_year'] < 100), \"release_year\"] += 2000\n",
    "    df.loc[ (df['release_year'] > 20)  & (df['release_year'] < 100), \"release_year\"] += 1900\n",
    "    df['release_date'] = pd.to_datetime(df['release_date'])\n",
    "    df['release_month'] = df['release_date'].dt.month\n",
    "    df['release_day'] = df['release_date'].dt.day\n",
    "    df['release_dayofweek'] = df['release_date'].dt.dayofweek\n",
    "    df['release_quarter'] = df['release_date'].dt.quarter\n",
    "    for col in range (1,5) :\n",
    "        df['quarter'+str(col)] = df['release_quarter'].apply(lambda x: 1 if x == col else 0)\n",
    "    df = df.drop(columns=['release_date'], axis = 1)\n",
    "    return df\n",
    "\n",
    "def year_to_budget_ratio(df):\n",
    "    df['year_to_budget_ratio'] = df.apply(lambda x: (x.budget / x.release_year), axis=1)\n",
    "    return df\n",
    "    \n",
    "def prepare_data(train, test):\n",
    "    test.loc[test['release_date'].isnull() == True, 'release_date'] = '05/05/2000'\n",
    "    train, test = cast(train, test)\n",
    "    train = crew(train)\n",
    "    test = crew(test)\n",
    "    train = Keywords(train)\n",
    "    test = Keywords(test)\n",
    "    train = fill_runtime(train)\n",
    "    test = fill_runtime(test)\n",
    "    train = fill_budget(train)\n",
    "    test = fill_budget(test)\n",
    "    train, test = genres(train, test)\n",
    "    train = production_companies(train)\n",
    "    test = production_companies(test)\n",
    "    train = production_countries(train)\n",
    "    test = production_countries(test)\n",
    "    train = spoken_languages(train)\n",
    "    test = spoken_languages(test)\n",
    "    train = overview(train)\n",
    "    test = overview(test)\n",
    "    train = fill_missing_values(train)\n",
    "    test = fill_missing_values(test)\n",
    "    train = original_language(train)\n",
    "    test = original_language(test)\n",
    "    train = homepage(train)\n",
    "    test = homepage(test)\n",
    "    train = belongs_to_collection(train)\n",
    "    test = belongs_to_collection(test)\n",
    "    train = tagline(train)\n",
    "    test = tagline(test)\n",
    "    train = date_features(train)\n",
    "    test = date_features(test)\n",
    "    train = year_to_budget_ratio(train)\n",
    "    test = year_to_budget_ratio(test)\n",
    "    train = train.drop(columns_to_drop, axis = 1)\n",
    "    test_index = test['id']\n",
    "    test = test.drop(columns_to_drop, axis = 1)\n",
    "    return train, test, test_index"
   ]
  },
  {
   "cell_type": "code",
   "execution_count": 10,
   "metadata": {},
   "outputs": [
    {
     "name": "stderr",
     "output_type": "stream",
     "text": [
      "<ipython-input-9-2eae8298c385>:126: SettingWithCopyWarning: \n",
      "A value is trying to be set on a copy of a slice from a DataFrame\n",
      "\n",
      "See the caveats in the documentation: https://pandas.pydata.org/pandas-docs/stable/user_guide/indexing.html#returning-a-view-versus-a-copy\n",
      "  df[name][i] = 1\n"
     ]
    }
   ],
   "source": [
    "train_df, test_df, test_index = prepare_data(train, test)"
   ]
  },
  {
   "cell_type": "code",
   "execution_count": 11,
   "metadata": {},
   "outputs": [
    {
     "name": "stdout",
     "output_type": "stream",
     "text": [
      "Nr columns and rows of the train set:  (3000, 44)\n",
      "Nr columns and rows of the test set:  (4398, 43)\n"
     ]
    }
   ],
   "source": [
    "print(\"Nr columns and rows of the train set: \", train_df.shape)\n",
    "print(\"Nr columns and rows of the test set: \", test_df.shape)"
   ]
  },
  {
   "cell_type": "code",
   "execution_count": 12,
   "metadata": {},
   "outputs": [
    {
     "name": "stdout",
     "output_type": "stream",
     "text": [
      "Train set missing values:\n",
      " belongs_to_collection       0\n",
      "budget                      0\n",
      "genres                      0\n",
      "homepage                    0\n",
      "original_language           0\n",
      "overview                    0\n",
      "popularity                  0\n",
      "runtime                     0\n",
      "tagline                     0\n",
      "Keywords                    0\n",
      "revenue                     0\n",
      "num_cast                    0\n",
      "num_female_cast             0\n",
      "num_male_cast               0\n",
      "num_top_actors              0\n",
      "num_crew                    0\n",
      "num_female_crew             0\n",
      "num_male_crew               0\n",
      "num_directors               0\n",
      "num_producers               0\n",
      "num_editors                 0\n",
      "runtime_is_median           0\n",
      "budget_is_median            0\n",
      "num_genres                  0\n",
      "Family                      0\n",
      "Animation                   0\n",
      "Adventure                   0\n",
      "Science Fiction             0\n",
      "Fantasy                     0\n",
      "num_production_companies    0\n",
      "num_production_countries    0\n",
      "usa_produced                0\n",
      "num_spoken_languages        0\n",
      "in_english                  0\n",
      "release_month               0\n",
      "release_day                 0\n",
      "release_year                0\n",
      "release_dayofweek           0\n",
      "release_quarter             0\n",
      "quarter1                    0\n",
      "quarter2                    0\n",
      "quarter3                    0\n",
      "quarter4                    0\n",
      "year_to_budget_ratio        0\n",
      "dtype: int64\n",
      "\n",
      "Test set missing values:\n",
      " belongs_to_collection       0\n",
      "budget                      0\n",
      "genres                      0\n",
      "homepage                    0\n",
      "original_language           0\n",
      "overview                    0\n",
      "popularity                  0\n",
      "runtime                     0\n",
      "tagline                     0\n",
      "Keywords                    0\n",
      "num_cast                    0\n",
      "num_female_cast             0\n",
      "num_male_cast               0\n",
      "num_top_actors              0\n",
      "num_crew                    0\n",
      "num_female_crew             0\n",
      "num_male_crew               0\n",
      "num_directors               0\n",
      "num_producers               0\n",
      "num_editors                 0\n",
      "runtime_is_median           0\n",
      "budget_is_median            0\n",
      "num_genres                  0\n",
      "Adventure                   0\n",
      "Animation                   0\n",
      "Family                      0\n",
      "Fantasy                     0\n",
      "Science Fiction             0\n",
      "num_production_companies    0\n",
      "num_production_countries    0\n",
      "usa_produced                0\n",
      "num_spoken_languages        0\n",
      "in_english                  0\n",
      "release_month               0\n",
      "release_day                 0\n",
      "release_year                0\n",
      "release_dayofweek           0\n",
      "release_quarter             0\n",
      "quarter1                    0\n",
      "quarter2                    0\n",
      "quarter3                    0\n",
      "quarter4                    0\n",
      "year_to_budget_ratio        0\n",
      "dtype: int64\n"
     ]
    }
   ],
   "source": [
    "print(\"Train set missing values:\\n\", train_df.isna().sum())\n",
    "print(\"\\nTest set missing values:\\n\", test_df.isna().sum())"
   ]
  },
  {
   "cell_type": "markdown",
   "metadata": {},
   "source": [
    "### Budget"
   ]
  },
  {
   "cell_type": "code",
   "execution_count": 13,
   "metadata": {},
   "outputs": [
    {
     "name": "stdout",
     "output_type": "stream",
     "text": [
      "Movies missing a budget: 0\n"
     ]
    }
   ],
   "source": [
    "print('Movies missing a budget:',train_df.budget.isna().sum())"
   ]
  },
  {
   "cell_type": "code",
   "execution_count": 14,
   "metadata": {},
   "outputs": [
    {
     "name": "stdout",
     "output_type": "stream",
     "text": [
      "Pearsons correlation between budget and revenue: 0.747\n"
     ]
    }
   ],
   "source": [
    "corr, _ = pearsonr(train_df['budget'], train_df['revenue'])\n",
    "print('Pearsons correlation between budget and revenue: %.3f' % corr)"
   ]
  },
  {
   "cell_type": "code",
   "execution_count": 15,
   "metadata": {},
   "outputs": [
    {
     "data": {
      "text/plain": [
       "Text(0, 0.5, 'revenue')"
      ]
     },
     "execution_count": 15,
     "metadata": {},
     "output_type": "execute_result"
    },
    {
     "data": {
      "image/png": "[encoded data removed]",
      "text/plain": [
       "<Figure size 360x360 with 1 Axes>"
      ]
     },
     "metadata": {
      "needs_background": "light"
     },
     "output_type": "display_data"
    }
   ],
   "source": [
    "fig, ax = plt.subplots(figsize=(5,5))\n",
    "ax.scatter(train_df['budget'], train_df['revenue'])\n",
    "ax.set_title('Revenue vs budget');\n",
    "ax.set_xlabel(\"budget\")\n",
    "ax.set_ylabel(\"revenue\")"
   ]
  },
  {
   "cell_type": "markdown",
   "metadata": {},
   "source": [
    "### Belongs to Collection\n",
    "L'appartenenza a una collezione ha il potenziale di essere una caratteristica importante nella previsione delle entrate poiché i clienti potrebbero essere più propensi a pagare per un'esperienza cinematografica in cui hanno già investito tempo e denaro."
   ]
  },
  {
   "cell_type": "code",
   "execution_count": 16,
   "metadata": {},
   "outputs": [
    {
     "name": "stdout",
     "output_type": "stream",
     "text": [
      "Pearsons correlation between belongs_to_collection and revenue: 0.339\n"
     ]
    }
   ],
   "source": [
    "corr, _ = pearsonr(train_df['belongs_to_collection'], train_df['revenue'])\n",
    "print('Pearsons correlation between belongs_to_collection and revenue: %.3f' % corr)"
   ]
  },
  {
   "cell_type": "markdown",
   "metadata": {},
   "source": [
    "### Genres"
   ]
  },
  {
   "cell_type": "code",
   "execution_count": 17,
   "metadata": {},
   "outputs": [
    {
     "name": "stdout",
     "output_type": "stream",
     "text": [
      "Pearsons correlation between num_genres and revenue: 0.164\n"
     ]
    }
   ],
   "source": [
    "corr, _ = pearsonr(train_df['num_genres'], train_df['revenue'])\n",
    "print('Pearsons correlation between num_genres and revenue: %.3f' % corr)"
   ]
  },
  {
   "cell_type": "markdown",
   "metadata": {},
   "source": [
    "### Homepage"
   ]
  },
  {
   "cell_type": "code",
   "execution_count": 18,
   "metadata": {},
   "outputs": [
    {
     "name": "stdout",
     "output_type": "stream",
     "text": [
      "Pearsons correlation between homepage and revenue: 0.263\n"
     ]
    }
   ],
   "source": [
    "corr, _ = pearsonr(train_df['homepage'], train_df['revenue'])\n",
    "print('Pearsons correlation between homepage and revenue: %.3f' % corr)"
   ]
  },
  {
   "cell_type": "markdown",
   "metadata": {},
   "source": [
    "Sebbene non sia molto forte, osserviamo comunque una correlazione positiva tra l'esistenza di una homepage per un film e le entrate."
   ]
  },
  {
   "cell_type": "markdown",
   "metadata": {},
   "source": [
    "### Popularity"
   ]
  },
  {
   "cell_type": "code",
   "execution_count": 19,
   "metadata": {},
   "outputs": [
    {
     "name": "stdout",
     "output_type": "stream",
     "text": [
      "Pearsons correlation between popularity and revenue: 0.461\n"
     ]
    }
   ],
   "source": [
    "corr, _ = pearsonr(train_df['popularity'], train_df['revenue'])\n",
    "print('Pearsons correlation between popularity and revenue: %.3f' % corr)"
   ]
  },
  {
   "cell_type": "code",
   "execution_count": 20,
   "metadata": {},
   "outputs": [
    {
     "data": {
      "text/plain": [
       "Text(0, 0.5, 'popularity')"
      ]
     },
     "execution_count": 20,
     "metadata": {},
     "output_type": "execute_result"
    },
    {
     "data": {
      "image/png": "[encoded data removed]",
      "text/plain": [
       "<Figure size 360x360 with 1 Axes>"
      ]
     },
     "metadata": {
      "needs_background": "light"
     },
     "output_type": "display_data"
    }
   ],
   "source": [
    "fig, ax = plt.subplots(figsize=(5,5))\n",
    "ax.scatter(train_df['revenue'], train_df['popularity'])\n",
    "ax.set_title('Revenue vs popularity');\n",
    "ax.set_xlabel(\"revenue\")\n",
    "ax.set_ylabel(\"popularity\")"
   ]
  },
  {
   "cell_type": "markdown",
   "metadata": {},
   "source": [
    "La popolarità di un film è uno dei motivi principali per cui la gente va a vederlo. Infatti si può pensare possa essere una\n",
    "feature molto utile nella fase di predizione. Si può anche osservare che vi è una correlazione complessivamente buona."
   ]
  },
  {
   "cell_type": "markdown",
   "metadata": {},
   "source": [
    "### Original Language"
   ]
  },
  {
   "cell_type": "code",
   "execution_count": 21,
   "metadata": {},
   "outputs": [
    {
     "name": "stdout",
     "output_type": "stream",
     "text": [
      "Pearsons correlation between in_english and revenue: 0.142\n"
     ]
    }
   ],
   "source": [
    "corr, _ = pearsonr(train_df['in_english'], train_df['revenue'])\n",
    "print('Pearsons correlation between in_english and revenue: %.3f' % corr)"
   ]
  },
  {
   "cell_type": "code",
   "execution_count": 22,
   "metadata": {},
   "outputs": [
    {
     "data": {
      "text/plain": [
       "Text(6.799999999999997, 0.5, 'Revenue')"
      ]
     },
     "execution_count": 22,
     "metadata": {},
     "output_type": "execute_result"
    },
    {
     "data": {
      "text/plain": [
       "<Figure size 360x360 with 0 Axes>"
      ]
     },
     "metadata": {},
     "output_type": "display_data"
    },
    {
     "data": {
      "image/png": "[encoded data removed]",
      "text/plain": [
       "<Figure size 360x360 with 1 Axes>"
      ]
     },
     "metadata": {
      "needs_background": "light"
     },
     "output_type": "display_data"
    }
   ],
   "source": [
    "plt.figure(figsize=(5, 5))\n",
    "sns.catplot(x='in_english', y='revenue', data=train_df)\n",
    "plt.xlabel('Is a movie in english or not?')\n",
    "plt.ylabel('Revenue')"
   ]
  },
  {
   "cell_type": "markdown",
   "metadata": {},
   "source": [
    "Possiamo vedere che esiste, anche se debole, una correlazione positiva tra i film in inglese e le rispettive entrate. Sebbene i film in inglese raggiungano complessivamente un fatturato molto maggiore, ciò potrebbe essere semplicemente dovuto al fatto che il numero di film usciti in inglese è molto più alto."
   ]
  },
  {
   "cell_type": "markdown",
   "metadata": {},
   "source": [
    "### Poster Path"
   ]
  },
  {
   "cell_type": "code",
   "execution_count": 23,
   "metadata": {},
   "outputs": [
    {
     "name": "stdout",
     "output_type": "stream",
     "text": [
      "Movies missing a poster path: 1\n"
     ]
    }
   ],
   "source": [
    "print('Movies missing a poster path:',train.poster_path.isna().sum())"
   ]
  },
  {
   "cell_type": "markdown",
   "metadata": {},
   "source": [
    "Solo 1 film nel training set ha la feature mancante, quindi probabilmente non è molto utile per il nostro modello, la lasciamo dunque perdere."
   ]
  },
  {
   "cell_type": "markdown",
   "metadata": {},
   "source": [
    "### Overview"
   ]
  },
  {
   "cell_type": "code",
   "execution_count": 24,
   "metadata": {},
   "outputs": [
    {
     "name": "stdout",
     "output_type": "stream",
     "text": [
      "Pearsons correlation between overview and revenue: -0.005\n"
     ]
    }
   ],
   "source": [
    "corr, _ = pearsonr(train_df['overview'], train_df['revenue'])\n",
    "print('Pearsons correlation between overview and revenue: %.3f' % corr)"
   ]
  },
  {
   "cell_type": "markdown",
   "metadata": {},
   "source": [
    "### Production companies"
   ]
  },
  {
   "cell_type": "code",
   "execution_count": 25,
   "metadata": {},
   "outputs": [
    {
     "name": "stdout",
     "output_type": "stream",
     "text": [
      "Pearsons correlation between num_production_companies and revenue: 0.154\n"
     ]
    }
   ],
   "source": [
    "corr, _ = pearsonr(train_df['num_production_companies'], train_df['revenue'])\n",
    "print('Pearsons correlation between num_production_companies and revenue: %.3f' % corr)"
   ]
  },
  {
   "cell_type": "markdown",
   "metadata": {},
   "source": [
    "### Production countries"
   ]
  },
  {
   "cell_type": "code",
   "execution_count": 26,
   "metadata": {},
   "outputs": [
    {
     "data": {
      "text/plain": [
       "Text(6.799999999999997, 0.5, 'Revenue')"
      ]
     },
     "execution_count": 26,
     "metadata": {},
     "output_type": "execute_result"
    },
    {
     "data": {
      "text/plain": [
       "<Figure size 360x360 with 0 Axes>"
      ]
     },
     "metadata": {},
     "output_type": "display_data"
    },
    {
     "data": {
      "image/png": "[encoded data removed]",
      "text/plain": [
       "<Figure size 360x360 with 1 Axes>"
      ]
     },
     "metadata": {
      "needs_background": "light"
     },
     "output_type": "display_data"
    }
   ],
   "source": [
    "plt.figure(figsize=(5, 5))\n",
    "sns.catplot(x='usa_produced', y='revenue', data=train_df);\n",
    "plt.xlabel('Is a movie produced in the USA or in other countries?')\n",
    "plt.ylabel('Revenue')"
   ]
  },
  {
   "cell_type": "code",
   "execution_count": 27,
   "metadata": {},
   "outputs": [
    {
     "name": "stdout",
     "output_type": "stream",
     "text": [
      "Pearsons correlation between number of production countries and revenue: 0.053\n",
      "Pearsons correlation between usa_produced and revenue: 0.198\n"
     ]
    }
   ],
   "source": [
    "corr, _ = pearsonr(train_df['num_production_countries'], train_df['revenue'])\n",
    "print('Pearsons correlation between number of production countries and revenue: %.3f' % corr)\n",
    "corr, _ = pearsonr(train_df['usa_produced'], train_df['revenue'])\n",
    "print('Pearsons correlation between usa_produced and revenue: %.3f' % corr)"
   ]
  },
  {
   "cell_type": "markdown",
   "metadata": {},
   "source": [
    "### Release date"
   ]
  },
  {
   "cell_type": "code",
   "execution_count": 28,
   "metadata": {},
   "outputs": [
    {
     "data": {
      "text/plain": [
       "Text(0.5, 1.0, 'Mean revenue by day of week')"
      ]
     },
     "execution_count": 28,
     "metadata": {},
     "output_type": "execute_result"
    },
    {
     "data": {
      "image/png": "[encoded data removed]",
      "text/plain": [
       "<Figure size 720x360 with 1 Axes>"
      ]
     },
     "metadata": {
      "needs_background": "light"
     },
     "output_type": "display_data"
    }
   ],
   "source": [
    "mean_rev_by_day_of_week = train_df.groupby('release_dayofweek')['revenue'].agg('mean')\n",
    "langs=[\"Monday\",\"Tuesday\",\"Wednesday\",\"Thursday\",\"Friday\",\"Saturday\",\"Sunday\"]\n",
    "fig, ax = plt.subplots(figsize=(10,5))\n",
    "ax.bar(langs, mean_rev_by_day_of_week)\n",
    "ax.set_xlabel('Day Of Week')\n",
    "ax.set_ylabel('Revenue')\n",
    "ax.set_title('Mean revenue by day of week')"
   ]
  },
  {
   "cell_type": "markdown",
   "metadata": {},
   "source": [
    "Sorprendentemente, nonostante l'ipotesi che venerdì sia la data di rilascio più comune a causa di alcuni vantaggi monetari per le vendite, mercoledì (seguito da martedì e giovedì) ha le entrate più elevate."
   ]
  },
  {
   "cell_type": "code",
   "execution_count": 29,
   "metadata": {},
   "outputs": [
    {
     "data": {
      "text/plain": [
       "Text(0.5, 1.0, 'Mean revenue by year')"
      ]
     },
     "execution_count": 29,
     "metadata": {},
     "output_type": "execute_result"
    },
    {
     "data": {
      "image/png": "[encoded data removed]",
      "text/plain": [
       "<Figure size 720x360 with 1 Axes>"
      ]
     },
     "metadata": {
      "needs_background": "light"
     },
     "output_type": "display_data"
    }
   ],
   "source": [
    "mean_rev_by_year = train_df.groupby('release_year')['revenue'].agg('mean')\n",
    "fig, ax = plt.subplots(figsize=(10,5))\n",
    "ax.plot(mean_rev_by_year)\n",
    "ax.set_xlabel('Year')\n",
    "ax.set_ylabel('Revenue')\n",
    "ax.set_title('Mean revenue by year')"
   ]
  },
  {
   "cell_type": "markdown",
   "metadata": {},
   "source": [
    "Le entrate dei film generalmente aumentano di anno in anno, con un notevole picco in alcuni anni."
   ]
  },
  {
   "cell_type": "markdown",
   "metadata": {},
   "source": [
    "### Runtime"
   ]
  },
  {
   "cell_type": "code",
   "execution_count": 30,
   "metadata": {},
   "outputs": [
    {
     "data": {
      "text/plain": [
       "Text(0, 0.5, 'revenue')"
      ]
     },
     "execution_count": 30,
     "metadata": {},
     "output_type": "execute_result"
    },
    {
     "data": {
      "image/png": "[encoded data removed]",
      "text/plain": [
       "<Figure size 360x360 with 1 Axes>"
      ]
     },
     "metadata": {
      "needs_background": "light"
     },
     "output_type": "display_data"
    }
   ],
   "source": [
    "fig, ax = plt.subplots(figsize=(5,5))\n",
    "ax.scatter(train_df['runtime'], train_df['revenue'])\n",
    "ax.set_title('Revenue vs runtime');\n",
    "ax.set_xlabel(\"runtime\")\n",
    "ax.set_ylabel(\"revenue\")"
   ]
  },
  {
   "cell_type": "code",
   "execution_count": 31,
   "metadata": {},
   "outputs": [
    {
     "name": "stdout",
     "output_type": "stream",
     "text": [
      "Pearsons correlation betweeb runtime and revenue: 0.220\n"
     ]
    }
   ],
   "source": [
    "corr, _ = pearsonr(train_df['runtime'], train_df['revenue'])\n",
    "print('Pearsons correlation betweeb runtime and revenue: %.3f' % corr)"
   ]
  },
  {
   "cell_type": "markdown",
   "metadata": {},
   "source": [
    "### Spoken languages"
   ]
  },
  {
   "cell_type": "code",
   "execution_count": 32,
   "metadata": {},
   "outputs": [
    {
     "name": "stdout",
     "output_type": "stream",
     "text": [
      "Pearsons correlation between num_spoken_languages and revenue: 0.065\n"
     ]
    }
   ],
   "source": [
    "corr, _ = pearsonr(train_df['num_spoken_languages'], train_df['revenue'])\n",
    "print('Pearsons correlation between num_spoken_languages and revenue: %.3f' % corr)"
   ]
  },
  {
   "cell_type": "markdown",
   "metadata": {},
   "source": [
    "### Status"
   ]
  },
  {
   "cell_type": "markdown",
   "metadata": {},
   "source": [
    "Questo attributo lo eliminiamo in quanto risulta avere valori costanti, di conseguenza non utili ai fini della costruzione del modello"
   ]
  },
  {
   "cell_type": "markdown",
   "metadata": {},
   "source": [
    "### Tagline"
   ]
  },
  {
   "cell_type": "code",
   "execution_count": 33,
   "metadata": {},
   "outputs": [
    {
     "data": {
      "text/plain": [
       "Text(6.799999999999997, 0.5, 'Revenue')"
      ]
     },
     "execution_count": 33,
     "metadata": {},
     "output_type": "execute_result"
    },
    {
     "data": {
      "text/plain": [
       "<Figure size 360x360 with 0 Axes>"
      ]
     },
     "metadata": {},
     "output_type": "display_data"
    },
    {
     "data": {
      "image/png": "[encoded data removed]",
      "text/plain": [
       "<Figure size 360x360 with 1 Axes>"
      ]
     },
     "metadata": {
      "needs_background": "light"
     },
     "output_type": "display_data"
    }
   ],
   "source": [
    "plt.figure(figsize=(5, 5))\n",
    "sns.catplot(x='tagline', y='revenue', data=train_df);\n",
    "plt.xlabel('Does a movie have a tagline or not?')\n",
    "plt.ylabel('Revenue')"
   ]
  },
  {
   "cell_type": "code",
   "execution_count": 34,
   "metadata": {},
   "outputs": [
    {
     "name": "stdout",
     "output_type": "stream",
     "text": [
      "Pearsons correlation between tagline and revenue: 0.180\n"
     ]
    }
   ],
   "source": [
    "corr, _ = pearsonr(train_df['tagline'], train_df['revenue'])\n",
    "print('Pearsons correlation between tagline and revenue: %.3f' % corr)"
   ]
  },
  {
   "cell_type": "markdown",
   "metadata": {},
   "source": [
    "### Keywords"
   ]
  },
  {
   "cell_type": "code",
   "execution_count": 35,
   "metadata": {},
   "outputs": [
    {
     "data": {
      "text/plain": [
       "Text(6.799999999999997, 0.5, 'Revenue')"
      ]
     },
     "execution_count": 35,
     "metadata": {},
     "output_type": "execute_result"
    },
    {
     "data": {
      "text/plain": [
       "<Figure size 360x360 with 0 Axes>"
      ]
     },
     "metadata": {},
     "output_type": "display_data"
    },
    {
     "data": {
      "image/png": "[encoded data removed]",
      "text/plain": [
       "<Figure size 360x360 with 1 Axes>"
      ]
     },
     "metadata": {
      "needs_background": "light"
     },
     "output_type": "display_data"
    }
   ],
   "source": [
    "plt.figure(figsize=(5, 5))\n",
    "sns.catplot(x='Keywords', y='revenue', data=train_df);\n",
    "plt.xlabel('Does a movie have keywords or not?')\n",
    "plt.ylabel('Revenue')"
   ]
  },
  {
   "cell_type": "code",
   "execution_count": 36,
   "metadata": {},
   "outputs": [
    {
     "name": "stdout",
     "output_type": "stream",
     "text": [
      "Pearsons correlation between Keywords and revenue: 0.129\n"
     ]
    }
   ],
   "source": [
    "corr, _ = pearsonr(train_df['Keywords'], train_df['revenue'])\n",
    "print('Pearsons correlation between Keywords and revenue: %.3f' % corr)"
   ]
  },
  {
   "cell_type": "markdown",
   "metadata": {},
   "source": [
    "### Cast"
   ]
  },
  {
   "cell_type": "code",
   "execution_count": 37,
   "metadata": {},
   "outputs": [
    {
     "name": "stdout",
     "output_type": "stream",
     "text": [
      "Pearsons correlation between num_cast and revenue: 0.336\n"
     ]
    }
   ],
   "source": [
    "corr, _ = pearsonr(train_df['num_cast'], train_df['revenue'])\n",
    "print('Pearsons correlation between num_cast and revenue: %.3f' % corr)"
   ]
  },
  {
   "cell_type": "code",
   "execution_count": 38,
   "metadata": {},
   "outputs": [
    {
     "name": "stdout",
     "output_type": "stream",
     "text": [
      "Pearsons correlation between num_top_actors and revenue: 0.441\n"
     ]
    }
   ],
   "source": [
    "corr, _ = pearsonr(train_df['num_top_actors'], train_df['revenue'])\n",
    "print('Pearsons correlation between num_top_actors and revenue: %.3f' % corr)"
   ]
  },
  {
   "cell_type": "code",
   "execution_count": 39,
   "metadata": {},
   "outputs": [
    {
     "name": "stdout",
     "output_type": "stream",
     "text": [
      "Pearsons correlation between num_female_cast and revenue: 0.224\n"
     ]
    }
   ],
   "source": [
    "corr, _ = pearsonr(train_df['num_female_cast'], train_df['revenue'])\n",
    "print('Pearsons correlation between num_female_cast and revenue: %.3f' % corr)"
   ]
  },
  {
   "cell_type": "code",
   "execution_count": 40,
   "metadata": {},
   "outputs": [
    {
     "name": "stdout",
     "output_type": "stream",
     "text": [
      "Pearsons correlation between num_female_cast and revenue: 0.373\n"
     ]
    }
   ],
   "source": [
    "corr, _ = pearsonr(train_df['num_male_cast'], train_df['revenue'])\n",
    "print('Pearsons correlation between num_female_cast and revenue: %.3f' % corr)"
   ]
  },
  {
   "cell_type": "markdown",
   "metadata": {},
   "source": [
    "### Crew"
   ]
  },
  {
   "cell_type": "code",
   "execution_count": 41,
   "metadata": {},
   "outputs": [
    {
     "name": "stdout",
     "output_type": "stream",
     "text": [
      "Pearsons correlation between num_crew and revenue: 0.372\n"
     ]
    }
   ],
   "source": [
    "corr, _ = pearsonr(train_df['num_crew'], train_df['revenue'])\n",
    "print('Pearsons correlation between num_crew and revenue: %.3f' % corr)"
   ]
  },
  {
   "cell_type": "code",
   "execution_count": 42,
   "metadata": {},
   "outputs": [
    {
     "name": "stdout",
     "output_type": "stream",
     "text": [
      "Pearsons correlation between num_female_crew and revenue: 0.267\n"
     ]
    }
   ],
   "source": [
    "corr, _ = pearsonr(train_df['num_female_crew'], train_df['revenue'])\n",
    "print('Pearsons correlation between num_female_crew and revenue: %.3f' % corr)"
   ]
  },
  {
   "cell_type": "code",
   "execution_count": 43,
   "metadata": {},
   "outputs": [
    {
     "name": "stdout",
     "output_type": "stream",
     "text": [
      "Pearsons correlation between num_male_crew and revenue: 0.383\n"
     ]
    }
   ],
   "source": [
    "corr, _ = pearsonr(train_df['num_male_crew'], train_df['revenue'])\n",
    "print('Pearsons correlation between num_male_crew and revenue: %.3f' % corr)"
   ]
  },
  {
   "cell_type": "markdown",
   "metadata": {},
   "source": [
    "# Modeling"
   ]
  },
  {
   "cell_type": "markdown",
   "metadata": {},
   "source": [
    "## 1. Linear Regression"
   ]
  },
  {
   "cell_type": "code",
   "execution_count": 44,
   "metadata": {},
   "outputs": [],
   "source": [
    "y = train_df['revenue']\n",
    "y = np.log1p(y)\n",
    "X = train_df.drop('revenue', axis = 1)"
   ]
  },
  {
   "cell_type": "code",
   "execution_count": 45,
   "metadata": {},
   "outputs": [],
   "source": [
    "def rmse(y_pred, y_true):\n",
    "    return np.sqrt(mean_squared_error(y_pred, y_true))"
   ]
  },
  {
   "cell_type": "markdown",
   "metadata": {},
   "source": [
    "### Testing a regression model"
   ]
  },
  {
   "cell_type": "code",
   "execution_count": 46,
   "metadata": {},
   "outputs": [
    {
     "name": "stdout",
     "output_type": "stream",
     "text": [
      "Train MSE: 5.240\n",
      "Test MSE : 5.828\n",
      "Train RMSE : 2.289\n",
      "Test RMSE : 2.414\n",
      "Model score 0.412 \n"
     ]
    },
    {
     "data": {
      "text/plain": [
       "<matplotlib.legend.Legend at 0x26d6dcfcc10>"
      ]
     },
     "execution_count": 46,
     "metadata": {},
     "output_type": "execute_result"
    },
    {
     "data": {
      "image/png": "[encoded data removed]",
      "text/plain": [
       "<Figure size 432x288 with 1 Axes>"
      ]
     },
     "metadata": {
      "needs_background": "light"
     },
     "output_type": "display_data"
    }
   ],
   "source": [
    "X_train, X_test, y_train, y_test = train_test_split(X, y, test_size=0.3, random_state=10)\n",
    "\n",
    "model = linear_model.LinearRegression()\n",
    "model.fit(X_train, y_train)\n",
    "\n",
    "y_pred_train = model.predict(X_train)\n",
    "y_pred_train[y_pred_train<0] = 0\n",
    "y_pred_test = model.predict(X_test)\n",
    "y_pred_test[y_pred_test<0] = 0\n",
    "\n",
    "reg_train_err = mean_squared_error(y_true = y_train, y_pred = y_pred_train)\n",
    "reg_test_err = mean_squared_error(y_true = y_test, y_pred = y_pred_test)\n",
    "\n",
    "print (\"Train MSE: {:.3f}\".format(reg_train_err) )\n",
    "print (\"Test MSE : {:.3f}\".format(reg_test_err) )\n",
    "print(\"Train RMSE : {:.3f}\".format(np.sqrt(reg_train_err)))\n",
    "print(\"Test RMSE : {:.3f}\".format(np.sqrt(reg_test_err)))\n",
    "print(\"Model score {:.3f} \".format(model.score(X_test, y_test)))\n",
    "\n",
    "fig, ax = plt.subplots()\n",
    "ax.axhline(y=np.sqrt(reg_test_err), c='red', ls=\"--\", label=\"Regression Test\")\n",
    "ax.axhline(y=np.sqrt(reg_train_err), c='blue', ls=\"--\", label=\"Regression Train\")\n",
    "ax.set_ylabel(\"RMSE\")\n",
    "ax.margins(0.8, 0.8)   \n",
    "ax.grid()\n",
    "ax.legend()"
   ]
  },
  {
   "cell_type": "markdown",
   "metadata": {},
   "source": [
    "### PCA"
   ]
  },
  {
   "cell_type": "code",
   "execution_count": 47,
   "metadata": {},
   "outputs": [
    {
     "data": {
      "text/plain": [
       "<matplotlib.legend.Legend at 0x26d6dd92d60>"
      ]
     },
     "execution_count": 47,
     "metadata": {},
     "output_type": "execute_result"
    },
    {
     "data": {
      "image/png": "[encoded data removed]",
      "text/plain": [
       "<Figure size 432x288 with 1 Axes>"
      ]
     },
     "metadata": {
      "needs_background": "light"
     },
     "output_type": "display_data"
    }
   ],
   "source": [
    "X = train_df.drop('revenue', axis = 1)\n",
    "X_std = StandardScaler().fit_transform(X)\n",
    "\n",
    "pca = PCA(n_components=2)\n",
    "X_2 = pca.fit_transform(X)\n",
    "X_approx = pca.inverse_transform(X_2)\n",
    "\n",
    "fig, ax = plt.subplots()\n",
    "ax.plot(X_approx[:,0], X_approx[:,1], '.', label=\"reconstructed\")\n",
    "ax.set_title(\"PCA\")\n",
    "ax.set_xlabel(\"1st Component\")\n",
    "ax.set_ylabel(\"2nd Component\")\n",
    "ax.legend()"
   ]
  },
  {
   "cell_type": "markdown",
   "metadata": {},
   "source": [
    "## 2. Decision Trees"
   ]
  },
  {
   "cell_type": "markdown",
   "metadata": {},
   "source": [
    "### Single Tree"
   ]
  },
  {
   "cell_type": "code",
   "execution_count": 48,
   "metadata": {},
   "outputs": [],
   "source": [
    "y = train_df['revenue']\n",
    "y = np.log1p(y)\n",
    "X = train_df.drop('revenue', axis = 1)"
   ]
  },
  {
   "cell_type": "code",
   "execution_count": 49,
   "metadata": {},
   "outputs": [
    {
     "name": "stdout",
     "output_type": "stream",
     "text": [
      "Leaves:  2 - Train Accuracy: 0.246 - Validation Accuracy: 0.275\n",
      "Leaves:  3 - Train Accuracy: 0.350 - Validation Accuracy: 0.359\n",
      "Leaves:  4 - Train Accuracy: 0.387 - Validation Accuracy: 0.411\n",
      "Leaves:  5 - Train Accuracy: 0.407 - Validation Accuracy: 0.424\n",
      "Leaves:  6 - Train Accuracy: 0.422 - Validation Accuracy: 0.435\n",
      "Leaves:  7 - Train Accuracy: 0.437 - Validation Accuracy: 0.429\n",
      "Leaves:  8 - Train Accuracy: 0.452 - Validation Accuracy: 0.443\n",
      "Leaves:  9 - Train Accuracy: 0.465 - Validation Accuracy: 0.460\n",
      "Leaves: 10 - Train Accuracy: 0.476 - Validation Accuracy: 0.462\n",
      "Leaves: 11 - Train Accuracy: 0.487 - Validation Accuracy: 0.418\n",
      "Leaves: 12 - Train Accuracy: 0.496 - Validation Accuracy: 0.412\n",
      "Leaves: 13 - Train Accuracy: 0.504 - Validation Accuracy: 0.422\n",
      "Leaves: 14 - Train Accuracy: 0.511 - Validation Accuracy: 0.421\n",
      "Leaves: 15 - Train Accuracy: 0.518 - Validation Accuracy: 0.421\n",
      "Leaves: 16 - Train Accuracy: 0.525 - Validation Accuracy: 0.438\n",
      "Leaves: 17 - Train Accuracy: 0.531 - Validation Accuracy: 0.450\n",
      "Leaves: 18 - Train Accuracy: 0.538 - Validation Accuracy: 0.444\n",
      "Leaves: 19 - Train Accuracy: 0.545 - Validation Accuracy: 0.431\n",
      "Leaves: 20 - Train Accuracy: 0.551 - Validation Accuracy: 0.439\n",
      "Leaves: 21 - Train Accuracy: 0.557 - Validation Accuracy: 0.458\n",
      "Leaves: 22 - Train Accuracy: 0.563 - Validation Accuracy: 0.399\n",
      "Leaves: 23 - Train Accuracy: 0.571 - Validation Accuracy: 0.401\n",
      "Leaves: 24 - Train Accuracy: 0.577 - Validation Accuracy: 0.406\n",
      "Leaves: 25 - Train Accuracy: 0.583 - Validation Accuracy: 0.377\n",
      "Leaves: 26 - Train Accuracy: 0.589 - Validation Accuracy: 0.368\n",
      "Leaves: 27 - Train Accuracy: 0.594 - Validation Accuracy: 0.369\n",
      "Leaves: 28 - Train Accuracy: 0.599 - Validation Accuracy: 0.369\n",
      "Leaves: 29 - Train Accuracy: 0.604 - Validation Accuracy: 0.368\n",
      "Leaves: 30 - Train Accuracy: 0.610 - Validation Accuracy: 0.361\n",
      "Leaves: 31 - Train Accuracy: 0.615 - Validation Accuracy: 0.361\n",
      "Leaves: 32 - Train Accuracy: 0.620 - Validation Accuracy: 0.346\n",
      "Leaves: 33 - Train Accuracy: 0.625 - Validation Accuracy: 0.361\n",
      "Leaves: 34 - Train Accuracy: 0.629 - Validation Accuracy: 0.364\n",
      "Leaves: 35 - Train Accuracy: 0.637 - Validation Accuracy: 0.363\n",
      "Leaves: 36 - Train Accuracy: 0.642 - Validation Accuracy: 0.363\n",
      "Leaves: 37 - Train Accuracy: 0.649 - Validation Accuracy: 0.363\n",
      "Leaves: 38 - Train Accuracy: 0.653 - Validation Accuracy: 0.364\n",
      "Leaves: 39 - Train Accuracy: 0.658 - Validation Accuracy: 0.354\n",
      "Leaves: 40 - Train Accuracy: 0.662 - Validation Accuracy: 0.373\n",
      "Leaves: 41 - Train Accuracy: 0.666 - Validation Accuracy: 0.353\n",
      "Leaves: 42 - Train Accuracy: 0.671 - Validation Accuracy: 0.353\n",
      "Leaves: 43 - Train Accuracy: 0.675 - Validation Accuracy: 0.367\n",
      "Leaves: 44 - Train Accuracy: 0.679 - Validation Accuracy: 0.409\n",
      "Leaves: 45 - Train Accuracy: 0.682 - Validation Accuracy: 0.374\n",
      "Leaves: 46 - Train Accuracy: 0.686 - Validation Accuracy: 0.426\n",
      "Leaves: 47 - Train Accuracy: 0.690 - Validation Accuracy: 0.427\n",
      "Leaves: 48 - Train Accuracy: 0.693 - Validation Accuracy: 0.360\n",
      "Leaves: 49 - Train Accuracy: 0.696 - Validation Accuracy: 0.360\n",
      "Leaves: 50 - Train Accuracy: 0.699 - Validation Accuracy: 0.356\n",
      "Leaves: 51 - Train Accuracy: 0.702 - Validation Accuracy: 0.409\n",
      "Leaves: 52 - Train Accuracy: 0.705 - Validation Accuracy: 0.356\n",
      "Leaves: 53 - Train Accuracy: 0.708 - Validation Accuracy: 0.361\n",
      "Leaves: 54 - Train Accuracy: 0.711 - Validation Accuracy: 0.356\n",
      "Leaves: 55 - Train Accuracy: 0.713 - Validation Accuracy: 0.347\n",
      "Leaves: 56 - Train Accuracy: 0.716 - Validation Accuracy: 0.340\n",
      "Leaves: 57 - Train Accuracy: 0.718 - Validation Accuracy: 0.322\n",
      "Leaves: 58 - Train Accuracy: 0.721 - Validation Accuracy: 0.369\n",
      "Leaves: 59 - Train Accuracy: 0.723 - Validation Accuracy: 0.379\n",
      "Leaves: 60 - Train Accuracy: 0.728 - Validation Accuracy: 0.320\n",
      "Leaves: 61 - Train Accuracy: 0.730 - Validation Accuracy: 0.312\n",
      "Leaves: 62 - Train Accuracy: 0.733 - Validation Accuracy: 0.312\n",
      "Leaves: 63 - Train Accuracy: 0.735 - Validation Accuracy: 0.321\n",
      "Leaves: 64 - Train Accuracy: 0.737 - Validation Accuracy: 0.330\n",
      "Leaves: 65 - Train Accuracy: 0.740 - Validation Accuracy: 0.329\n",
      "Leaves: 66 - Train Accuracy: 0.742 - Validation Accuracy: 0.328\n",
      "Leaves: 67 - Train Accuracy: 0.745 - Validation Accuracy: 0.304\n",
      "Leaves: 68 - Train Accuracy: 0.747 - Validation Accuracy: 0.319\n",
      "Leaves: 69 - Train Accuracy: 0.750 - Validation Accuracy: 0.372\n",
      "Leaves: 70 - Train Accuracy: 0.752 - Validation Accuracy: 0.364\n",
      "Best Max Leaves 10\n",
      "Test Accuracy: 0.374\n",
      "Best RMSE:  2.409881844714171\n",
      "Reg_Valid Accuracy: 0.402\n",
      "Reg_RMSE:  2.5426950555557712\n"
     ]
    },
    {
     "data": {
      "text/plain": [
       "<matplotlib.legend.Legend at 0x26d6de3f310>"
      ]
     },
     "execution_count": 49,
     "metadata": {},
     "output_type": "execute_result"
    },
    {
     "data": {
      "image/png": "[encoded data removed]",
      "text/plain": [
       "<Figure size 1080x432 with 1 Axes>"
      ]
     },
     "metadata": {
      "needs_background": "light"
     },
     "output_type": "display_data"
    }
   ],
   "source": [
    "X_train_80, X_test, y_train_80, y_test = train_test_split(X, y, test_size=0.20, random_state=10)\n",
    "X_train, X_valid, y_train, y_valid = train_test_split(X_train_80, y_train_80, test_size=0.20, random_state=10)\n",
    "\n",
    "accuracies = []\n",
    "errors = []\n",
    "\n",
    "for max_leaves in range(2,71):\n",
    "    \n",
    "    dt = tree.DecisionTreeRegressor(max_leaf_nodes=max_leaves)\n",
    "    dt.fit(X_train,y_train)\n",
    "\n",
    "    # compute Accuracy\n",
    "    train_acc = dt.score(X_train, y_train)\n",
    "    valid_acc = dt.score(X_valid, y_valid)\n",
    "    # compute RMSE\n",
    "    train_err = rmse(dt.predict(X_train), y_train)\n",
    "    valid_err = rmse(dt.predict(X_valid), y_valid)\n",
    "    print (\"Leaves: {:2d} - Train Accuracy: {:.3f} - Validation Accuracy: {:.3f}\".format(max_leaves,  train_acc, valid_acc) )\n",
    "    \n",
    "    accuracies += [ [valid_acc, max_leaves] ]\n",
    "    errors += [ [valid_err, train_err, max_leaves] ]\n",
    "\n",
    "errors = np.array(errors)\n",
    "best_accuracy, best_max_leaves = max(accuracies)\n",
    "print ( \"Best Max Leaves\", best_max_leaves )\n",
    "\n",
    "dt = tree.DecisionTreeRegressor(max_leaf_nodes=best_max_leaves)\n",
    "dt.fit(X_train_80,y_train_80)\n",
    "\n",
    "test_acc = dt.score(X_test, y_test)\n",
    "print (\"Test Accuracy: {:.3f}\".format(test_acc) )\n",
    "print(\"Best RMSE: \", min(errors[:,0]))\n",
    "\n",
    "reg = linear_model.LinearRegression()\n",
    "reg.fit(X_train, y_train)\n",
    "\n",
    "reg_train_err = rmse(y_pred=reg.predict(X_train), y_true=y_train)\n",
    "reg_valid_err = rmse(y_pred=reg.predict(X_valid), y_true=y_valid)\n",
    "print (\"Reg_Valid Accuracy: {:.3f}\".format(reg.score(X_valid, y_valid)) )\n",
    "print(\"Reg_RMSE: \", reg_valid_err)\n",
    "\n",
    "\n",
    "fig, ax = plt.subplots(figsize=(15,6))\n",
    "ax.plot(errors[:,2], errors[:,1], \"x:\", label=\"Train\")\n",
    "ax.plot(errors[:,2], errors[:,0], \"o-\", label=\"Valid\")\n",
    "ax.axhline(y=reg_train_err, c='red', ls=\"--\", label=\"Reg Train\")\n",
    "ax.axhline(y=reg_valid_err, c='green', ls=\"--\", label=\"Reg Valid\")\n",
    "ax.set_ylabel(\"RMSE\")\n",
    "ax.set_xlabel(\"Number of Leaves\")\n",
    "ax.grid()\n",
    "ax.legend()\n"
   ]
  },
  {
   "cell_type": "markdown",
   "metadata": {},
   "source": [
    "### Increasing the complexity of a decision tree"
   ]
  },
  {
   "cell_type": "code",
   "execution_count": 50,
   "metadata": {},
   "outputs": [
    {
     "name": "stdout",
     "output_type": "stream",
     "text": [
      "Best leaves Number:  92\n",
      "Best RMSE:  2.0045069121286887\n"
     ]
    },
    {
     "data": {
      "text/plain": [
       "<matplotlib.legend.Legend at 0x26d71446c70>"
      ]
     },
     "execution_count": 50,
     "metadata": {},
     "output_type": "execute_result"
    },
    {
     "data": {
      "image/png": "[encoded data removed]",
      "text/plain": [
       "<Figure size 1080x432 with 1 Axes>"
      ]
     },
     "metadata": {
      "needs_background": "light"
     },
     "output_type": "display_data"
    }
   ],
   "source": [
    "N_TESTS = 20\n",
    "\n",
    "scores = []\n",
    "\n",
    "n_leaves = range(2,101)\n",
    "\n",
    "for l in n_leaves:\n",
    "    for i in range(N_TESTS):\n",
    "        Xs, ys = resample(X,y, n_samples=int(0.67*len(y)) )\n",
    "        dt = tree.DecisionTreeRegressor(max_leaf_nodes=l)\n",
    "        dt.fit(Xs,ys)\n",
    "        \n",
    "        y_pred = dt.predict(X)\n",
    "        \n",
    "    dt_rmse = rmse(y_pred, y)\n",
    "    scores.append(dt_rmse.mean())\n",
    "    \n",
    "n_final = scores.index([min(scores)])+1\n",
    "print(\"Best leaves Number: \", n_final) \n",
    "print(\"Best RMSE: \", min(scores))  \n",
    "\n",
    "fig, ax = plt.subplots(figsize=(15,6))\n",
    "\n",
    "ax.plot(n_leaves, scores, 'o:', label='RMSE')\n",
    "ax.set_title(\"Effect of n_leaves\")\n",
    "ax.set_xlabel('Number of leaves')\n",
    "ax.set_ylabel('RMSE')\n",
    "ax.grid()\n",
    "ax.legend()"
   ]
  },
  {
   "cell_type": "markdown",
   "metadata": {},
   "source": [
    "### k-fold Cross-validation"
   ]
  },
  {
   "cell_type": "code",
   "execution_count": 51,
   "metadata": {},
   "outputs": [
    {
     "name": "stdout",
     "output_type": "stream",
     "text": [
      "Leaves:  2 - Validation Accuracy: 2.657\n",
      "Leaves:  3 - Validation Accuracy: 2.502\n",
      "Leaves:  4 - Validation Accuracy: 2.430\n",
      "Leaves:  5 - Validation Accuracy: 2.409\n",
      "Leaves:  6 - Validation Accuracy: 2.370\n",
      "Leaves:  7 - Validation Accuracy: 2.377\n",
      "Leaves:  8 - Validation Accuracy: 2.361\n",
      "Leaves:  9 - Validation Accuracy: 2.368\n",
      "Leaves: 10 - Validation Accuracy: 2.373\n",
      "Leaves: 11 - Validation Accuracy: 2.364\n",
      "Leaves: 12 - Validation Accuracy: 2.338\n",
      "Leaves: 13 - Validation Accuracy: 2.333\n",
      "Leaves: 14 - Validation Accuracy: 2.373\n",
      "Leaves: 15 - Validation Accuracy: 2.375\n",
      "Leaves: 16 - Validation Accuracy: 2.368\n",
      "Leaves: 17 - Validation Accuracy: 2.352\n",
      "Leaves: 18 - Validation Accuracy: 2.375\n",
      "Leaves: 19 - Validation Accuracy: 2.346\n",
      "Leaves: 20 - Validation Accuracy: 2.386\n",
      "Leaves: 21 - Validation Accuracy: 2.393\n",
      "Leaves: 22 - Validation Accuracy: 2.435\n",
      "Leaves: 23 - Validation Accuracy: 2.392\n",
      "Leaves: 24 - Validation Accuracy: 2.407\n",
      "Leaves: 25 - Validation Accuracy: 2.402\n",
      "Leaves: 26 - Validation Accuracy: 2.439\n",
      "Leaves: 27 - Validation Accuracy: 2.429\n",
      "Leaves: 28 - Validation Accuracy: 2.422\n",
      "Leaves: 29 - Validation Accuracy: 2.413\n",
      "Leaves: 30 - Validation Accuracy: 2.433\n",
      "Leaves: 31 - Validation Accuracy: 2.415\n",
      "Leaves: 32 - Validation Accuracy: 2.441\n",
      "Leaves: 33 - Validation Accuracy: 2.461\n",
      "Leaves: 34 - Validation Accuracy: 2.453\n",
      "Leaves: 35 - Validation Accuracy: 2.480\n",
      "Leaves: 36 - Validation Accuracy: 2.444\n",
      "Leaves: 37 - Validation Accuracy: 2.474\n",
      "Leaves: 38 - Validation Accuracy: 2.440\n",
      "Leaves: 39 - Validation Accuracy: 2.465\n",
      "Leaves: 40 - Validation Accuracy: 2.501\n",
      "Leaves: 41 - Validation Accuracy: 2.467\n",
      "Leaves: 42 - Validation Accuracy: 2.452\n",
      "Leaves: 43 - Validation Accuracy: 2.502\n",
      "Leaves: 44 - Validation Accuracy: 2.465\n",
      "Leaves: 45 - Validation Accuracy: 2.486\n",
      "Leaves: 46 - Validation Accuracy: 2.507\n",
      "Leaves: 47 - Validation Accuracy: 2.474\n",
      "Leaves: 48 - Validation Accuracy: 2.505\n",
      "Leaves: 49 - Validation Accuracy: 2.501\n",
      "Leaves: 50 - Validation Accuracy: 2.528\n",
      "Leaves: 51 - Validation Accuracy: 2.495\n",
      "Leaves: 52 - Validation Accuracy: 2.472\n",
      "Leaves: 53 - Validation Accuracy: 2.558\n",
      "Leaves: 54 - Validation Accuracy: 2.492\n",
      "Leaves: 55 - Validation Accuracy: 2.504\n",
      "Leaves: 56 - Validation Accuracy: 2.500\n",
      "Leaves: 57 - Validation Accuracy: 2.536\n",
      "Leaves: 58 - Validation Accuracy: 2.510\n",
      "Leaves: 59 - Validation Accuracy: 2.537\n",
      "Leaves: 60 - Validation Accuracy: 2.579\n",
      "Leaves: 61 - Validation Accuracy: 2.557\n",
      "Leaves: 62 - Validation Accuracy: 2.555\n",
      "Leaves: 63 - Validation Accuracy: 2.535\n",
      "Leaves: 64 - Validation Accuracy: 2.554\n",
      "Leaves: 65 - Validation Accuracy: 2.494\n",
      "Leaves: 66 - Validation Accuracy: 2.567\n",
      "Leaves: 67 - Validation Accuracy: 2.573\n",
      "Leaves: 68 - Validation Accuracy: 2.565\n",
      "Leaves: 69 - Validation Accuracy: 2.524\n",
      "Leaves: 70 - Validation Accuracy: 2.500\n",
      "Best Max Leaves 13\n",
      "Best RMSE:  2.332760444299584\n",
      "Test Accuracy: 0.364\n"
     ]
    },
    {
     "data": {
      "text/plain": [
       "<matplotlib.legend.Legend at 0x26d71485430>"
      ]
     },
     "execution_count": 51,
     "metadata": {},
     "output_type": "execute_result"
    },
    {
     "data": {
      "image/png": "[encoded data removed]",
      "text/plain": [
       "<Figure size 1080x432 with 1 Axes>"
      ]
     },
     "metadata": {
      "needs_background": "light"
     },
     "output_type": "display_data"
    }
   ],
   "source": [
    "X_train_80, X_test, y_train_80, y_test = train_test_split(X, y, test_size=0.20, random_state=10)\n",
    "\n",
    "accuracies = []\n",
    "\n",
    "for max_leaves in range(2,71):\n",
    "   \n",
    "    dt = tree.DecisionTreeRegressor(max_leaf_nodes=max_leaves)\n",
    "    scores = cross_val_score(dt, X_train_80, y_train_80, \n",
    "                         cv=5, scoring='neg_root_mean_squared_error', \n",
    "                         verbose = 0)\n",
    "    valid_acc = -scores.mean()\n",
    "    print (\"Leaves: {:2d} - Validation Accuracy: {:.3f}\".format(max_leaves,  valid_acc) )\n",
    "    \n",
    "    accuracies += [ [valid_acc, max_leaves] ]\n",
    "\n",
    "best_accuracy, best_max_leaves = min(accuracies)\n",
    "print ( \"Best Max Leaves\", best_max_leaves )\n",
    "print(\"Best RMSE: \", best_accuracy) \n",
    "\n",
    "dt = tree.DecisionTreeRegressor(max_leaf_nodes=best_max_leaves)\n",
    "dt.fit(X_train_80,y_train_80)\n",
    "\n",
    "test_acc = dt.score(X_test, y_test)\n",
    "print (\"Test Accuracy: {:.3f}\".format(test_acc) )\n",
    "\n",
    "accuracies = np.array(accuracies)\n",
    "\n",
    "fig, ax = plt.subplots(figsize=(15,6))\n",
    "ax.plot(accuracies[:,1], accuracies[:,0], \"x:\", label=\"Valid\")\n",
    "ax.set_ylabel(\"Neg RMSE\")\n",
    "ax.set_xlabel(\"Number of Leaves\")\n",
    "ax.grid()\n",
    "ax.legend()"
   ]
  },
  {
   "cell_type": "markdown",
   "metadata": {},
   "source": [
    "## 3. Random Forest"
   ]
  },
  {
   "cell_type": "code",
   "execution_count": 52,
   "metadata": {},
   "outputs": [
    {
     "name": "stdout",
     "output_type": "stream",
     "text": [
      "Best Trees Number:  38\n",
      "Best RMSE:  1.5566897715999364\n"
     ]
    },
    {
     "data": {
      "text/plain": [
       "<matplotlib.legend.Legend at 0x26d73862b20>"
      ]
     },
     "execution_count": 52,
     "metadata": {},
     "output_type": "execute_result"
    },
    {
     "data": {
      "image/png": "[encoded data removed]",
      "text/plain": [
       "<Figure size 720x432 with 1 Axes>"
      ]
     },
     "metadata": {
      "needs_background": "light"
     },
     "output_type": "display_data"
    }
   ],
   "source": [
    "N_TESTS = 10\n",
    "\n",
    "scores = []\n",
    "\n",
    "boosts = range(1,51)\n",
    "for l in boosts:\n",
    "    for i in range(N_TESTS):\n",
    "        Xs, ys = resample(X,y, n_samples=int(0.67*len(y)) )\n",
    "\n",
    "        rf = RandomForestRegressor(n_estimators=l)\n",
    "        rf.fit(Xs, ys)\n",
    "        \n",
    "        y_pred = rf.predict(X)\n",
    "    dt_rmse = rmse(y_pred, y)\n",
    "    scores.append(dt_rmse.mean())\n",
    "\n",
    "n_trees = scores.index([min(scores)])+1\n",
    "print(\"Best Trees Number: \", n_trees) \n",
    "print(\"Best RMSE: \", min(scores)) \n",
    "\n",
    "fig, ax = plt.subplots(figsize=(10,6))\n",
    "\n",
    "ax.plot(boosts, scores, 'o:', label='RMSE')\n",
    "ax.set_title(\"Effect of n_estimators\")\n",
    "ax.set_xlabel('Number of Trees')\n",
    "ax.set_ylabel('RMSE')\n",
    "ax.grid()\n",
    "ax.legend()"
   ]
  },
  {
   "cell_type": "markdown",
   "metadata": {},
   "source": [
    "### Feature Importance"
   ]
  },
  {
   "cell_type": "code",
   "execution_count": 53,
   "metadata": {},
   "outputs": [
    {
     "name": "stdout",
     "output_type": "stream",
     "text": [
      "Best number of features: 41\n",
      "Best RMSE: 2.0906248053235905\n"
     ]
    },
    {
     "data": {
      "text/plain": [
       "Text(0.5, 0, 'Number of Best features used')"
      ]
     },
     "execution_count": 53,
     "metadata": {},
     "output_type": "execute_result"
    },
    {
     "data": {
      "image/png": "[encoded data removed]",
      "text/plain": [
       "<Figure size 720x432 with 1 Axes>"
      ]
     },
     "metadata": {
      "needs_background": "light"
     },
     "output_type": "display_data"
    }
   ],
   "source": [
    "rf2 = RandomForestRegressor(n_estimators=n_trees)\n",
    "rf2.fit(X,y)\n",
    "X_arr = np.array(X)\n",
    "best_features = np.argsort(rf2.feature_importances_)[::-1]\n",
    "\n",
    "rmse = []\n",
    "\n",
    "for f in range(1,len(best_features)+1):\n",
    "    rf_small = RandomForestRegressor(n_estimators=n_trees)\n",
    "    scores = cross_val_score(rf_small, \n",
    "                             X_arr[:,best_features[:f]], y, \n",
    "                             cv=5, scoring='neg_root_mean_squared_error')\n",
    "    rmse += [-scores.mean()]\n",
    "    \n",
    "n_features = rmse.index([min(rmse)])+1\n",
    "print (\"Best number of features:\", n_features)\n",
    "print (\"Best RMSE:\", min(rmse))\n",
    "\n",
    "fig, ax = plt.subplots(figsize=(10,6))\n",
    "ax.plot(range(1,len(best_features)+1), rmse, 'o-', label=\"RMSE\")\n",
    "ax.set_title(\"RMSE on varying features\")\n",
    "ax.set_xlabel(\"Number of Best features used\")"
   ]
  },
  {
   "cell_type": "code",
   "execution_count": 54,
   "metadata": {},
   "outputs": [
    {
     "data": {
      "text/plain": [
       "array([0.00862195, 0.2572466 , 0.04057144, 0.00271803, 0.01432072,\n",
       "       0.02533822, 0.15709556, 0.04033916, 0.00407979, 0.00299103,\n",
       "       0.01877601, 0.01797991, 0.01727856, 0.00193579, 0.01717269,\n",
       "       0.0093695 , 0.02241591, 0.00857238, 0.01150412, 0.00951963,\n",
       "       0.00212766, 0.01362669, 0.0103596 , 0.0013139 , 0.00177684,\n",
       "       0.00126323, 0.00121402, 0.00097156, 0.01118468, 0.00690862,\n",
       "       0.00312485, 0.01140877, 0.00159423, 0.01441074, 0.02405025,\n",
       "       0.04475816, 0.0136261 , 0.00265627, 0.00122642, 0.00202643,\n",
       "       0.00175288, 0.00136654, 0.13940458])"
      ]
     },
     "execution_count": 54,
     "metadata": {},
     "output_type": "execute_result"
    }
   ],
   "source": [
    "rf2.feature_importances_"
   ]
  },
  {
   "cell_type": "code",
   "execution_count": 55,
   "metadata": {},
   "outputs": [
    {
     "data": {
      "text/plain": [
       "Text(0.5, 1.0, 'Feature Importances')"
      ]
     },
     "execution_count": 55,
     "metadata": {},
     "output_type": "execute_result"
    },
    {
     "data": {
      "image/png": "[encoded data removed]",
      "text/plain": [
       "<Figure size 1080x432 with 1 Axes>"
      ]
     },
     "metadata": {
      "needs_background": "light"
     },
     "output_type": "display_data"
    }
   ],
   "source": [
    "index = np.argsort(rf2.feature_importances_,)[::-1]\n",
    "fig, ax = plt.subplots(figsize=(15,6))\n",
    "ax.bar(np.array(X.columns.tolist())[index], rf2.feature_importances_[index])\n",
    "plt.xticks(rotation=90)\n",
    "ax.set_title(\"Feature Importances\")"
   ]
  },
  {
   "cell_type": "code",
   "execution_count": 56,
   "metadata": {},
   "outputs": [],
   "source": [
    "predictions = np.expm1(rf2.predict(test_df))\n",
    "submission = pd.DataFrame({'id' : test_index, 'revenue' : np.round(predictions)})\n",
    "submission.to_csv('submission.csv', index = False)"
   ]
  },
  {
   "cell_type": "code",
   "execution_count": 57,
   "metadata": {},
   "outputs": [
    {
     "data": {
      "text/html": [
       "<div>\n",
       "<style scoped>\n",
       "    .dataframe tbody tr th:only-of-type {\n",
       "        vertical-align: middle;\n",
       "    }\n",
       "\n",
       "    .dataframe tbody tr th {\n",
       "        vertical-align: top;\n",
       "    }\n",
       "\n",
       "    .dataframe thead th {\n",
       "        text-align: right;\n",
       "    }\n",
       "</style>\n",
       "<table border=\"1\" class=\"dataframe\">\n",
       "  <thead>\n",
       "    <tr style=\"text-align: right;\">\n",
       "      <th></th>\n",
       "      <th>id</th>\n",
       "      <th>revenue</th>\n",
       "    </tr>\n",
       "  </thead>\n",
       "  <tbody>\n",
       "    <tr>\n",
       "      <th>0</th>\n",
       "      <td>3001</td>\n",
       "      <td>5290365.0</td>\n",
       "    </tr>\n",
       "    <tr>\n",
       "      <th>1</th>\n",
       "      <td>3002</td>\n",
       "      <td>820690.0</td>\n",
       "    </tr>\n",
       "    <tr>\n",
       "      <th>2</th>\n",
       "      <td>3003</td>\n",
       "      <td>17092382.0</td>\n",
       "    </tr>\n",
       "    <tr>\n",
       "      <th>3</th>\n",
       "      <td>3004</td>\n",
       "      <td>8967913.0</td>\n",
       "    </tr>\n",
       "    <tr>\n",
       "      <th>4</th>\n",
       "      <td>3005</td>\n",
       "      <td>148421.0</td>\n",
       "    </tr>\n",
       "  </tbody>\n",
       "</table>\n",
       "</div>"
      ],
      "text/plain": [
       "     id     revenue\n",
       "0  3001   5290365.0\n",
       "1  3002    820690.0\n",
       "2  3003  17092382.0\n",
       "3  3004   8967913.0\n",
       "4  3005    148421.0"
      ]
     },
     "execution_count": 57,
     "metadata": {},
     "output_type": "execute_result"
    }
   ],
   "source": [
    "submission.head()"
   ]
  }
 ],
 "metadata": {
  "kernelspec": {
   "display_name": "Python 3",
   "language": "python",
   "name": "python3"
  },
  "language_info": {
   "codemirror_mode": {
    "name": "ipython",
    "version": 3
   },
   "file_extension": ".py",
   "mimetype": "text/x-python",
   "name": "python",
   "nbconvert_exporter": "python",
   "pygments_lexer": "ipython3",
   "version": "3.8.3"
  }
 },
 "nbformat": 4,
 "nbformat_minor": 4
}
